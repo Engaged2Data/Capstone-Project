{
 "cells": [
  {
   "cell_type": "markdown",
   "metadata": {},
   "source": [
    "Import Libraries\n",
    "------------------------"
   ]
  },
  {
   "cell_type": "code",
   "execution_count": 2,
   "metadata": {},
   "outputs": [],
   "source": [
    "import numpy as np\n",
    "import pandas as pd\n",
    "import warnings\n",
    "warnings.filterwarnings('ignore')\n",
    "pd.options.display.max_columns = None\n",
    "#import pandas_profiling\n",
    "import seaborn as sns\n",
    "import matplotlib.pyplot as plt\n",
    "import matplotlib.style as style\n",
    "import plotly.express as px\n",
    "import os\n",
    "from time import time\n",
    "from sklearn.linear_model import LogisticRegression\n",
    "from sklearn.svm import SVC\n",
    "from sklearn.ensemble import RandomForestClassifier\n",
    "from sklearn.model_selection import train_test_split\n",
    "from sklearn.linear_model import LogisticRegression\n",
    "from sklearn.metrics import  accuracy_score, f1_score, precision_score, recall_score, roc_auc_score, roc_curve\n",
    "from sklearn.model_selection import cross_val_score\n",
    "from imblearn.under_sampling import RandomUnderSampler\n",
    "from collections import Counter\n",
    "from imblearn.over_sampling import SMOTE\n",
    "from imblearn.over_sampling import RandomOverSampler\n",
    "import matplotlib.pyplot as plt\n",
    "import numpy as np\n",
    "from imblearn.pipeline import Pipeline, make_pipeline\n",
    "from sklearn.model_selection import KFold\n",
    "from sklearn import linear_model\n",
    "from sklearn.model_selection import GridSearchCV\n",
    "from sklearn.metrics import make_scorer, accuracy_score\n",
    "from sklearn.neural_network import MLPClassifier\n",
    "#from sklearn.pipeline import Pipeline"
   ]
  },
  {
   "cell_type": "code",
   "execution_count": 2,
   "metadata": {},
   "outputs": [],
   "source": []
  },
  {
   "cell_type": "markdown",
   "metadata": {},
   "source": [
    "Import the Dataset (Data Source: https://archive.ics.uci.edu/ml/datasets/default%20of%20credit%20card%20clients)"
   ]
  },
  {
   "cell_type": "code",
   "execution_count": 3,
   "metadata": {},
   "outputs": [],
   "source": [
    "#Importing the Credit Card Dataset\n",
    "CardData=pd.read_csv('UCI_Credit_Card.csv')"
   ]
  },
  {
   "cell_type": "markdown",
   "metadata": {},
   "source": [
    "Data Preprocessing\n",
    "--------------------"
   ]
  },
  {
   "cell_type": "code",
   "execution_count": 4,
   "metadata": {},
   "outputs": [
    {
     "name": "stdout",
     "output_type": "stream",
     "text": [
      "Customer Credit Card Default Data -  Rows:30000 Columns:25\n"
     ]
    }
   ],
   "source": [
    "print(\"Customer Credit Card Default Data -  Rows:{0} Columns:{1}\".format(CardData.shape[0],CardData.shape[1]))"
   ]
  },
  {
   "cell_type": "code",
   "execution_count": 5,
   "metadata": {
    "scrolled": true
   },
   "outputs": [
    {
     "data": {
      "text/html": [
       "<div>\n",
       "<style scoped>\n",
       "    .dataframe tbody tr th:only-of-type {\n",
       "        vertical-align: middle;\n",
       "    }\n",
       "\n",
       "    .dataframe tbody tr th {\n",
       "        vertical-align: top;\n",
       "    }\n",
       "\n",
       "    .dataframe thead th {\n",
       "        text-align: right;\n",
       "    }\n",
       "</style>\n",
       "<table border=\"1\" class=\"dataframe\">\n",
       "  <thead>\n",
       "    <tr style=\"text-align: right;\">\n",
       "      <th></th>\n",
       "      <th>ID</th>\n",
       "      <th>LIMIT_BAL</th>\n",
       "      <th>SEX</th>\n",
       "      <th>EDUCATION</th>\n",
       "      <th>MARRIAGE</th>\n",
       "      <th>AGE</th>\n",
       "      <th>PAY_0</th>\n",
       "      <th>PAY_2</th>\n",
       "      <th>PAY_3</th>\n",
       "      <th>PAY_4</th>\n",
       "      <th>PAY_5</th>\n",
       "      <th>PAY_6</th>\n",
       "      <th>BILL_AMT1</th>\n",
       "      <th>BILL_AMT2</th>\n",
       "      <th>BILL_AMT3</th>\n",
       "      <th>BILL_AMT4</th>\n",
       "      <th>BILL_AMT5</th>\n",
       "      <th>BILL_AMT6</th>\n",
       "      <th>PAY_AMT1</th>\n",
       "      <th>PAY_AMT2</th>\n",
       "      <th>PAY_AMT3</th>\n",
       "      <th>PAY_AMT4</th>\n",
       "      <th>PAY_AMT5</th>\n",
       "      <th>PAY_AMT6</th>\n",
       "      <th>default.payment.next.month</th>\n",
       "    </tr>\n",
       "  </thead>\n",
       "  <tbody>\n",
       "    <tr>\n",
       "      <th>0</th>\n",
       "      <td>1</td>\n",
       "      <td>20000.0</td>\n",
       "      <td>2</td>\n",
       "      <td>2</td>\n",
       "      <td>1</td>\n",
       "      <td>24</td>\n",
       "      <td>2</td>\n",
       "      <td>2</td>\n",
       "      <td>-1</td>\n",
       "      <td>-1</td>\n",
       "      <td>-2</td>\n",
       "      <td>-2</td>\n",
       "      <td>3913.0</td>\n",
       "      <td>3102.0</td>\n",
       "      <td>689.0</td>\n",
       "      <td>0.0</td>\n",
       "      <td>0.0</td>\n",
       "      <td>0.0</td>\n",
       "      <td>0.0</td>\n",
       "      <td>689.0</td>\n",
       "      <td>0.0</td>\n",
       "      <td>0.0</td>\n",
       "      <td>0.0</td>\n",
       "      <td>0.0</td>\n",
       "      <td>1</td>\n",
       "    </tr>\n",
       "    <tr>\n",
       "      <th>1</th>\n",
       "      <td>2</td>\n",
       "      <td>120000.0</td>\n",
       "      <td>2</td>\n",
       "      <td>2</td>\n",
       "      <td>2</td>\n",
       "      <td>26</td>\n",
       "      <td>-1</td>\n",
       "      <td>2</td>\n",
       "      <td>0</td>\n",
       "      <td>0</td>\n",
       "      <td>0</td>\n",
       "      <td>2</td>\n",
       "      <td>2682.0</td>\n",
       "      <td>1725.0</td>\n",
       "      <td>2682.0</td>\n",
       "      <td>3272.0</td>\n",
       "      <td>3455.0</td>\n",
       "      <td>3261.0</td>\n",
       "      <td>0.0</td>\n",
       "      <td>1000.0</td>\n",
       "      <td>1000.0</td>\n",
       "      <td>1000.0</td>\n",
       "      <td>0.0</td>\n",
       "      <td>2000.0</td>\n",
       "      <td>1</td>\n",
       "    </tr>\n",
       "    <tr>\n",
       "      <th>2</th>\n",
       "      <td>3</td>\n",
       "      <td>90000.0</td>\n",
       "      <td>2</td>\n",
       "      <td>2</td>\n",
       "      <td>2</td>\n",
       "      <td>34</td>\n",
       "      <td>0</td>\n",
       "      <td>0</td>\n",
       "      <td>0</td>\n",
       "      <td>0</td>\n",
       "      <td>0</td>\n",
       "      <td>0</td>\n",
       "      <td>29239.0</td>\n",
       "      <td>14027.0</td>\n",
       "      <td>13559.0</td>\n",
       "      <td>14331.0</td>\n",
       "      <td>14948.0</td>\n",
       "      <td>15549.0</td>\n",
       "      <td>1518.0</td>\n",
       "      <td>1500.0</td>\n",
       "      <td>1000.0</td>\n",
       "      <td>1000.0</td>\n",
       "      <td>1000.0</td>\n",
       "      <td>5000.0</td>\n",
       "      <td>0</td>\n",
       "    </tr>\n",
       "    <tr>\n",
       "      <th>3</th>\n",
       "      <td>4</td>\n",
       "      <td>50000.0</td>\n",
       "      <td>2</td>\n",
       "      <td>2</td>\n",
       "      <td>1</td>\n",
       "      <td>37</td>\n",
       "      <td>0</td>\n",
       "      <td>0</td>\n",
       "      <td>0</td>\n",
       "      <td>0</td>\n",
       "      <td>0</td>\n",
       "      <td>0</td>\n",
       "      <td>46990.0</td>\n",
       "      <td>48233.0</td>\n",
       "      <td>49291.0</td>\n",
       "      <td>28314.0</td>\n",
       "      <td>28959.0</td>\n",
       "      <td>29547.0</td>\n",
       "      <td>2000.0</td>\n",
       "      <td>2019.0</td>\n",
       "      <td>1200.0</td>\n",
       "      <td>1100.0</td>\n",
       "      <td>1069.0</td>\n",
       "      <td>1000.0</td>\n",
       "      <td>0</td>\n",
       "    </tr>\n",
       "    <tr>\n",
       "      <th>4</th>\n",
       "      <td>5</td>\n",
       "      <td>50000.0</td>\n",
       "      <td>1</td>\n",
       "      <td>2</td>\n",
       "      <td>1</td>\n",
       "      <td>57</td>\n",
       "      <td>-1</td>\n",
       "      <td>0</td>\n",
       "      <td>-1</td>\n",
       "      <td>0</td>\n",
       "      <td>0</td>\n",
       "      <td>0</td>\n",
       "      <td>8617.0</td>\n",
       "      <td>5670.0</td>\n",
       "      <td>35835.0</td>\n",
       "      <td>20940.0</td>\n",
       "      <td>19146.0</td>\n",
       "      <td>19131.0</td>\n",
       "      <td>2000.0</td>\n",
       "      <td>36681.0</td>\n",
       "      <td>10000.0</td>\n",
       "      <td>9000.0</td>\n",
       "      <td>689.0</td>\n",
       "      <td>679.0</td>\n",
       "      <td>0</td>\n",
       "    </tr>\n",
       "  </tbody>\n",
       "</table>\n",
       "</div>"
      ],
      "text/plain": [
       "   ID  LIMIT_BAL  SEX  EDUCATION  MARRIAGE  AGE  PAY_0  PAY_2  PAY_3  PAY_4  \\\n",
       "0   1    20000.0    2          2         1   24      2      2     -1     -1   \n",
       "1   2   120000.0    2          2         2   26     -1      2      0      0   \n",
       "2   3    90000.0    2          2         2   34      0      0      0      0   \n",
       "3   4    50000.0    2          2         1   37      0      0      0      0   \n",
       "4   5    50000.0    1          2         1   57     -1      0     -1      0   \n",
       "\n",
       "   PAY_5  PAY_6  BILL_AMT1  BILL_AMT2  BILL_AMT3  BILL_AMT4  BILL_AMT5  \\\n",
       "0     -2     -2     3913.0     3102.0      689.0        0.0        0.0   \n",
       "1      0      2     2682.0     1725.0     2682.0     3272.0     3455.0   \n",
       "2      0      0    29239.0    14027.0    13559.0    14331.0    14948.0   \n",
       "3      0      0    46990.0    48233.0    49291.0    28314.0    28959.0   \n",
       "4      0      0     8617.0     5670.0    35835.0    20940.0    19146.0   \n",
       "\n",
       "   BILL_AMT6  PAY_AMT1  PAY_AMT2  PAY_AMT3  PAY_AMT4  PAY_AMT5  PAY_AMT6  \\\n",
       "0        0.0       0.0     689.0       0.0       0.0       0.0       0.0   \n",
       "1     3261.0       0.0    1000.0    1000.0    1000.0       0.0    2000.0   \n",
       "2    15549.0    1518.0    1500.0    1000.0    1000.0    1000.0    5000.0   \n",
       "3    29547.0    2000.0    2019.0    1200.0    1100.0    1069.0    1000.0   \n",
       "4    19131.0    2000.0   36681.0   10000.0    9000.0     689.0     679.0   \n",
       "\n",
       "   default.payment.next.month  \n",
       "0                           1  \n",
       "1                           1  \n",
       "2                           0  \n",
       "3                           0  \n",
       "4                           0  "
      ]
     },
     "execution_count": 5,
     "metadata": {},
     "output_type": "execute_result"
    }
   ],
   "source": [
    "CardData.head()"
   ]
  },
  {
   "cell_type": "code",
   "execution_count": 6,
   "metadata": {},
   "outputs": [
    {
     "data": {
      "text/plain": [
       "ID                              int64\n",
       "LIMIT_BAL                     float64\n",
       "SEX                             int64\n",
       "EDUCATION                       int64\n",
       "MARRIAGE                        int64\n",
       "AGE                             int64\n",
       "PAY_0                           int64\n",
       "PAY_2                           int64\n",
       "PAY_3                           int64\n",
       "PAY_4                           int64\n",
       "PAY_5                           int64\n",
       "PAY_6                           int64\n",
       "BILL_AMT1                     float64\n",
       "BILL_AMT2                     float64\n",
       "BILL_AMT3                     float64\n",
       "BILL_AMT4                     float64\n",
       "BILL_AMT5                     float64\n",
       "BILL_AMT6                     float64\n",
       "PAY_AMT1                      float64\n",
       "PAY_AMT2                      float64\n",
       "PAY_AMT3                      float64\n",
       "PAY_AMT4                      float64\n",
       "PAY_AMT5                      float64\n",
       "PAY_AMT6                      float64\n",
       "default.payment.next.month      int64\n",
       "dtype: object"
      ]
     },
     "execution_count": 6,
     "metadata": {},
     "output_type": "execute_result"
    }
   ],
   "source": [
    "CardData.dtypes"
   ]
  },
  {
   "cell_type": "code",
   "execution_count": 7,
   "metadata": {},
   "outputs": [
    {
     "data": {
      "text/html": [
       "<div>\n",
       "<style scoped>\n",
       "    .dataframe tbody tr th:only-of-type {\n",
       "        vertical-align: middle;\n",
       "    }\n",
       "\n",
       "    .dataframe tbody tr th {\n",
       "        vertical-align: top;\n",
       "    }\n",
       "\n",
       "    .dataframe thead th {\n",
       "        text-align: right;\n",
       "    }\n",
       "</style>\n",
       "<table border=\"1\" class=\"dataframe\">\n",
       "  <thead>\n",
       "    <tr style=\"text-align: right;\">\n",
       "      <th></th>\n",
       "      <th>LIMIT_BAL</th>\n",
       "      <th>SEX</th>\n",
       "      <th>EDUCATION</th>\n",
       "      <th>MARRIAGE</th>\n",
       "      <th>AGE</th>\n",
       "      <th>default.payment.next.month</th>\n",
       "    </tr>\n",
       "  </thead>\n",
       "  <tbody>\n",
       "    <tr>\n",
       "      <th>count</th>\n",
       "      <td>30000.000000</td>\n",
       "      <td>30000.000000</td>\n",
       "      <td>30000.000000</td>\n",
       "      <td>30000.000000</td>\n",
       "      <td>30000.000000</td>\n",
       "      <td>30000.000000</td>\n",
       "    </tr>\n",
       "    <tr>\n",
       "      <th>mean</th>\n",
       "      <td>167484.322667</td>\n",
       "      <td>1.603733</td>\n",
       "      <td>1.853133</td>\n",
       "      <td>1.551867</td>\n",
       "      <td>35.485500</td>\n",
       "      <td>0.221200</td>\n",
       "    </tr>\n",
       "    <tr>\n",
       "      <th>std</th>\n",
       "      <td>129747.661567</td>\n",
       "      <td>0.489129</td>\n",
       "      <td>0.790349</td>\n",
       "      <td>0.521970</td>\n",
       "      <td>9.217904</td>\n",
       "      <td>0.415062</td>\n",
       "    </tr>\n",
       "    <tr>\n",
       "      <th>min</th>\n",
       "      <td>10000.000000</td>\n",
       "      <td>1.000000</td>\n",
       "      <td>0.000000</td>\n",
       "      <td>0.000000</td>\n",
       "      <td>21.000000</td>\n",
       "      <td>0.000000</td>\n",
       "    </tr>\n",
       "    <tr>\n",
       "      <th>25%</th>\n",
       "      <td>50000.000000</td>\n",
       "      <td>1.000000</td>\n",
       "      <td>1.000000</td>\n",
       "      <td>1.000000</td>\n",
       "      <td>28.000000</td>\n",
       "      <td>0.000000</td>\n",
       "    </tr>\n",
       "    <tr>\n",
       "      <th>50%</th>\n",
       "      <td>140000.000000</td>\n",
       "      <td>2.000000</td>\n",
       "      <td>2.000000</td>\n",
       "      <td>2.000000</td>\n",
       "      <td>34.000000</td>\n",
       "      <td>0.000000</td>\n",
       "    </tr>\n",
       "    <tr>\n",
       "      <th>75%</th>\n",
       "      <td>240000.000000</td>\n",
       "      <td>2.000000</td>\n",
       "      <td>2.000000</td>\n",
       "      <td>2.000000</td>\n",
       "      <td>41.000000</td>\n",
       "      <td>0.000000</td>\n",
       "    </tr>\n",
       "    <tr>\n",
       "      <th>max</th>\n",
       "      <td>1000000.000000</td>\n",
       "      <td>2.000000</td>\n",
       "      <td>6.000000</td>\n",
       "      <td>3.000000</td>\n",
       "      <td>79.000000</td>\n",
       "      <td>1.000000</td>\n",
       "    </tr>\n",
       "  </tbody>\n",
       "</table>\n",
       "</div>"
      ],
      "text/plain": [
       "            LIMIT_BAL           SEX     EDUCATION      MARRIAGE           AGE  \\\n",
       "count    30000.000000  30000.000000  30000.000000  30000.000000  30000.000000   \n",
       "mean    167484.322667      1.603733      1.853133      1.551867     35.485500   \n",
       "std     129747.661567      0.489129      0.790349      0.521970      9.217904   \n",
       "min      10000.000000      1.000000      0.000000      0.000000     21.000000   \n",
       "25%      50000.000000      1.000000      1.000000      1.000000     28.000000   \n",
       "50%     140000.000000      2.000000      2.000000      2.000000     34.000000   \n",
       "75%     240000.000000      2.000000      2.000000      2.000000     41.000000   \n",
       "max    1000000.000000      2.000000      6.000000      3.000000     79.000000   \n",
       "\n",
       "       default.payment.next.month  \n",
       "count                30000.000000  \n",
       "mean                     0.221200  \n",
       "std                      0.415062  \n",
       "min                      0.000000  \n",
       "25%                      0.000000  \n",
       "50%                      0.000000  \n",
       "75%                      0.000000  \n",
       "max                      1.000000  "
      ]
     },
     "execution_count": 7,
     "metadata": {},
     "output_type": "execute_result"
    }
   ],
   "source": [
    "CardData[['LIMIT_BAL','SEX','EDUCATION','MARRIAGE','AGE','default.payment.next.month']].describe()"
   ]
  },
  {
   "cell_type": "code",
   "execution_count": 8,
   "metadata": {},
   "outputs": [
    {
     "data": {
      "text/html": [
       "<div>\n",
       "<style scoped>\n",
       "    .dataframe tbody tr th:only-of-type {\n",
       "        vertical-align: middle;\n",
       "    }\n",
       "\n",
       "    .dataframe tbody tr th {\n",
       "        vertical-align: top;\n",
       "    }\n",
       "\n",
       "    .dataframe thead th {\n",
       "        text-align: right;\n",
       "    }\n",
       "</style>\n",
       "<table border=\"1\" class=\"dataframe\">\n",
       "  <thead>\n",
       "    <tr style=\"text-align: right;\">\n",
       "      <th></th>\n",
       "      <th>PAY_0</th>\n",
       "      <th>PAY_2</th>\n",
       "      <th>PAY_3</th>\n",
       "      <th>PAY_4</th>\n",
       "      <th>PAY_5</th>\n",
       "      <th>PAY_6</th>\n",
       "    </tr>\n",
       "  </thead>\n",
       "  <tbody>\n",
       "    <tr>\n",
       "      <th>count</th>\n",
       "      <td>30000.000000</td>\n",
       "      <td>30000.000000</td>\n",
       "      <td>30000.000000</td>\n",
       "      <td>30000.000000</td>\n",
       "      <td>30000.000000</td>\n",
       "      <td>30000.000000</td>\n",
       "    </tr>\n",
       "    <tr>\n",
       "      <th>mean</th>\n",
       "      <td>-0.016700</td>\n",
       "      <td>-0.133767</td>\n",
       "      <td>-0.166200</td>\n",
       "      <td>-0.220667</td>\n",
       "      <td>-0.266200</td>\n",
       "      <td>-0.291100</td>\n",
       "    </tr>\n",
       "    <tr>\n",
       "      <th>std</th>\n",
       "      <td>1.123802</td>\n",
       "      <td>1.197186</td>\n",
       "      <td>1.196868</td>\n",
       "      <td>1.169139</td>\n",
       "      <td>1.133187</td>\n",
       "      <td>1.149988</td>\n",
       "    </tr>\n",
       "    <tr>\n",
       "      <th>min</th>\n",
       "      <td>-2.000000</td>\n",
       "      <td>-2.000000</td>\n",
       "      <td>-2.000000</td>\n",
       "      <td>-2.000000</td>\n",
       "      <td>-2.000000</td>\n",
       "      <td>-2.000000</td>\n",
       "    </tr>\n",
       "    <tr>\n",
       "      <th>25%</th>\n",
       "      <td>-1.000000</td>\n",
       "      <td>-1.000000</td>\n",
       "      <td>-1.000000</td>\n",
       "      <td>-1.000000</td>\n",
       "      <td>-1.000000</td>\n",
       "      <td>-1.000000</td>\n",
       "    </tr>\n",
       "    <tr>\n",
       "      <th>50%</th>\n",
       "      <td>0.000000</td>\n",
       "      <td>0.000000</td>\n",
       "      <td>0.000000</td>\n",
       "      <td>0.000000</td>\n",
       "      <td>0.000000</td>\n",
       "      <td>0.000000</td>\n",
       "    </tr>\n",
       "    <tr>\n",
       "      <th>75%</th>\n",
       "      <td>0.000000</td>\n",
       "      <td>0.000000</td>\n",
       "      <td>0.000000</td>\n",
       "      <td>0.000000</td>\n",
       "      <td>0.000000</td>\n",
       "      <td>0.000000</td>\n",
       "    </tr>\n",
       "    <tr>\n",
       "      <th>max</th>\n",
       "      <td>8.000000</td>\n",
       "      <td>8.000000</td>\n",
       "      <td>8.000000</td>\n",
       "      <td>8.000000</td>\n",
       "      <td>8.000000</td>\n",
       "      <td>8.000000</td>\n",
       "    </tr>\n",
       "  </tbody>\n",
       "</table>\n",
       "</div>"
      ],
      "text/plain": [
       "              PAY_0         PAY_2         PAY_3         PAY_4         PAY_5  \\\n",
       "count  30000.000000  30000.000000  30000.000000  30000.000000  30000.000000   \n",
       "mean      -0.016700     -0.133767     -0.166200     -0.220667     -0.266200   \n",
       "std        1.123802      1.197186      1.196868      1.169139      1.133187   \n",
       "min       -2.000000     -2.000000     -2.000000     -2.000000     -2.000000   \n",
       "25%       -1.000000     -1.000000     -1.000000     -1.000000     -1.000000   \n",
       "50%        0.000000      0.000000      0.000000      0.000000      0.000000   \n",
       "75%        0.000000      0.000000      0.000000      0.000000      0.000000   \n",
       "max        8.000000      8.000000      8.000000      8.000000      8.000000   \n",
       "\n",
       "              PAY_6  \n",
       "count  30000.000000  \n",
       "mean      -0.291100  \n",
       "std        1.149988  \n",
       "min       -2.000000  \n",
       "25%       -1.000000  \n",
       "50%        0.000000  \n",
       "75%        0.000000  \n",
       "max        8.000000  "
      ]
     },
     "execution_count": 8,
     "metadata": {},
     "output_type": "execute_result"
    }
   ],
   "source": [
    "CardData[['PAY_0','PAY_2','PAY_3','PAY_4','PAY_5','PAY_6']].describe()"
   ]
  },
  {
   "cell_type": "code",
   "execution_count": 9,
   "metadata": {},
   "outputs": [
    {
     "data": {
      "text/html": [
       "<div>\n",
       "<style scoped>\n",
       "    .dataframe tbody tr th:only-of-type {\n",
       "        vertical-align: middle;\n",
       "    }\n",
       "\n",
       "    .dataframe tbody tr th {\n",
       "        vertical-align: top;\n",
       "    }\n",
       "\n",
       "    .dataframe thead th {\n",
       "        text-align: right;\n",
       "    }\n",
       "</style>\n",
       "<table border=\"1\" class=\"dataframe\">\n",
       "  <thead>\n",
       "    <tr style=\"text-align: right;\">\n",
       "      <th></th>\n",
       "      <th>PAY_AMT1</th>\n",
       "      <th>PAY_AMT2</th>\n",
       "      <th>PAY_AMT3</th>\n",
       "      <th>PAY_AMT4</th>\n",
       "      <th>PAY_AMT5</th>\n",
       "      <th>PAY_AMT6</th>\n",
       "    </tr>\n",
       "  </thead>\n",
       "  <tbody>\n",
       "    <tr>\n",
       "      <th>count</th>\n",
       "      <td>30000.000000</td>\n",
       "      <td>3.000000e+04</td>\n",
       "      <td>30000.00000</td>\n",
       "      <td>30000.000000</td>\n",
       "      <td>30000.000000</td>\n",
       "      <td>30000.000000</td>\n",
       "    </tr>\n",
       "    <tr>\n",
       "      <th>mean</th>\n",
       "      <td>5663.580500</td>\n",
       "      <td>5.921163e+03</td>\n",
       "      <td>5225.68150</td>\n",
       "      <td>4826.076867</td>\n",
       "      <td>4799.387633</td>\n",
       "      <td>5215.502567</td>\n",
       "    </tr>\n",
       "    <tr>\n",
       "      <th>std</th>\n",
       "      <td>16563.280354</td>\n",
       "      <td>2.304087e+04</td>\n",
       "      <td>17606.96147</td>\n",
       "      <td>15666.159744</td>\n",
       "      <td>15278.305679</td>\n",
       "      <td>17777.465775</td>\n",
       "    </tr>\n",
       "    <tr>\n",
       "      <th>min</th>\n",
       "      <td>0.000000</td>\n",
       "      <td>0.000000e+00</td>\n",
       "      <td>0.00000</td>\n",
       "      <td>0.000000</td>\n",
       "      <td>0.000000</td>\n",
       "      <td>0.000000</td>\n",
       "    </tr>\n",
       "    <tr>\n",
       "      <th>25%</th>\n",
       "      <td>1000.000000</td>\n",
       "      <td>8.330000e+02</td>\n",
       "      <td>390.00000</td>\n",
       "      <td>296.000000</td>\n",
       "      <td>252.500000</td>\n",
       "      <td>117.750000</td>\n",
       "    </tr>\n",
       "    <tr>\n",
       "      <th>50%</th>\n",
       "      <td>2100.000000</td>\n",
       "      <td>2.009000e+03</td>\n",
       "      <td>1800.00000</td>\n",
       "      <td>1500.000000</td>\n",
       "      <td>1500.000000</td>\n",
       "      <td>1500.000000</td>\n",
       "    </tr>\n",
       "    <tr>\n",
       "      <th>75%</th>\n",
       "      <td>5006.000000</td>\n",
       "      <td>5.000000e+03</td>\n",
       "      <td>4505.00000</td>\n",
       "      <td>4013.250000</td>\n",
       "      <td>4031.500000</td>\n",
       "      <td>4000.000000</td>\n",
       "    </tr>\n",
       "    <tr>\n",
       "      <th>max</th>\n",
       "      <td>873552.000000</td>\n",
       "      <td>1.684259e+06</td>\n",
       "      <td>896040.00000</td>\n",
       "      <td>621000.000000</td>\n",
       "      <td>426529.000000</td>\n",
       "      <td>528666.000000</td>\n",
       "    </tr>\n",
       "  </tbody>\n",
       "</table>\n",
       "</div>"
      ],
      "text/plain": [
       "            PAY_AMT1      PAY_AMT2      PAY_AMT3       PAY_AMT4  \\\n",
       "count   30000.000000  3.000000e+04   30000.00000   30000.000000   \n",
       "mean     5663.580500  5.921163e+03    5225.68150    4826.076867   \n",
       "std     16563.280354  2.304087e+04   17606.96147   15666.159744   \n",
       "min         0.000000  0.000000e+00       0.00000       0.000000   \n",
       "25%      1000.000000  8.330000e+02     390.00000     296.000000   \n",
       "50%      2100.000000  2.009000e+03    1800.00000    1500.000000   \n",
       "75%      5006.000000  5.000000e+03    4505.00000    4013.250000   \n",
       "max    873552.000000  1.684259e+06  896040.00000  621000.000000   \n",
       "\n",
       "            PAY_AMT5       PAY_AMT6  \n",
       "count   30000.000000   30000.000000  \n",
       "mean     4799.387633    5215.502567  \n",
       "std     15278.305679   17777.465775  \n",
       "min         0.000000       0.000000  \n",
       "25%       252.500000     117.750000  \n",
       "50%      1500.000000    1500.000000  \n",
       "75%      4031.500000    4000.000000  \n",
       "max    426529.000000  528666.000000  "
      ]
     },
     "execution_count": 9,
     "metadata": {},
     "output_type": "execute_result"
    }
   ],
   "source": [
    "CardData[['PAY_AMT1','PAY_AMT2','PAY_AMT3','PAY_AMT4','PAY_AMT5','PAY_AMT6']].describe()"
   ]
  },
  {
   "cell_type": "code",
   "execution_count": 10,
   "metadata": {},
   "outputs": [
    {
     "data": {
      "text/html": [
       "<div>\n",
       "<style scoped>\n",
       "    .dataframe tbody tr th:only-of-type {\n",
       "        vertical-align: middle;\n",
       "    }\n",
       "\n",
       "    .dataframe tbody tr th {\n",
       "        vertical-align: top;\n",
       "    }\n",
       "\n",
       "    .dataframe thead th {\n",
       "        text-align: right;\n",
       "    }\n",
       "</style>\n",
       "<table border=\"1\" class=\"dataframe\">\n",
       "  <thead>\n",
       "    <tr style=\"text-align: right;\">\n",
       "      <th></th>\n",
       "      <th>BILL_AMT1</th>\n",
       "      <th>BILL_AMT2</th>\n",
       "      <th>BILL_AMT3</th>\n",
       "      <th>BILL_AMT4</th>\n",
       "      <th>BILL_AMT5</th>\n",
       "      <th>BILL_AMT6</th>\n",
       "    </tr>\n",
       "  </thead>\n",
       "  <tbody>\n",
       "    <tr>\n",
       "      <th>count</th>\n",
       "      <td>30000.000000</td>\n",
       "      <td>30000.000000</td>\n",
       "      <td>3.000000e+04</td>\n",
       "      <td>30000.000000</td>\n",
       "      <td>30000.000000</td>\n",
       "      <td>30000.000000</td>\n",
       "    </tr>\n",
       "    <tr>\n",
       "      <th>mean</th>\n",
       "      <td>51223.330900</td>\n",
       "      <td>49179.075167</td>\n",
       "      <td>4.701315e+04</td>\n",
       "      <td>43262.948967</td>\n",
       "      <td>40311.400967</td>\n",
       "      <td>38871.760400</td>\n",
       "    </tr>\n",
       "    <tr>\n",
       "      <th>std</th>\n",
       "      <td>73635.860576</td>\n",
       "      <td>71173.768783</td>\n",
       "      <td>6.934939e+04</td>\n",
       "      <td>64332.856134</td>\n",
       "      <td>60797.155770</td>\n",
       "      <td>59554.107537</td>\n",
       "    </tr>\n",
       "    <tr>\n",
       "      <th>min</th>\n",
       "      <td>-165580.000000</td>\n",
       "      <td>-69777.000000</td>\n",
       "      <td>-1.572640e+05</td>\n",
       "      <td>-170000.000000</td>\n",
       "      <td>-81334.000000</td>\n",
       "      <td>-339603.000000</td>\n",
       "    </tr>\n",
       "    <tr>\n",
       "      <th>25%</th>\n",
       "      <td>3558.750000</td>\n",
       "      <td>2984.750000</td>\n",
       "      <td>2.666250e+03</td>\n",
       "      <td>2326.750000</td>\n",
       "      <td>1763.000000</td>\n",
       "      <td>1256.000000</td>\n",
       "    </tr>\n",
       "    <tr>\n",
       "      <th>50%</th>\n",
       "      <td>22381.500000</td>\n",
       "      <td>21200.000000</td>\n",
       "      <td>2.008850e+04</td>\n",
       "      <td>19052.000000</td>\n",
       "      <td>18104.500000</td>\n",
       "      <td>17071.000000</td>\n",
       "    </tr>\n",
       "    <tr>\n",
       "      <th>75%</th>\n",
       "      <td>67091.000000</td>\n",
       "      <td>64006.250000</td>\n",
       "      <td>6.016475e+04</td>\n",
       "      <td>54506.000000</td>\n",
       "      <td>50190.500000</td>\n",
       "      <td>49198.250000</td>\n",
       "    </tr>\n",
       "    <tr>\n",
       "      <th>max</th>\n",
       "      <td>964511.000000</td>\n",
       "      <td>983931.000000</td>\n",
       "      <td>1.664089e+06</td>\n",
       "      <td>891586.000000</td>\n",
       "      <td>927171.000000</td>\n",
       "      <td>961664.000000</td>\n",
       "    </tr>\n",
       "  </tbody>\n",
       "</table>\n",
       "</div>"
      ],
      "text/plain": [
       "           BILL_AMT1      BILL_AMT2     BILL_AMT3      BILL_AMT4  \\\n",
       "count   30000.000000   30000.000000  3.000000e+04   30000.000000   \n",
       "mean    51223.330900   49179.075167  4.701315e+04   43262.948967   \n",
       "std     73635.860576   71173.768783  6.934939e+04   64332.856134   \n",
       "min   -165580.000000  -69777.000000 -1.572640e+05 -170000.000000   \n",
       "25%      3558.750000    2984.750000  2.666250e+03    2326.750000   \n",
       "50%     22381.500000   21200.000000  2.008850e+04   19052.000000   \n",
       "75%     67091.000000   64006.250000  6.016475e+04   54506.000000   \n",
       "max    964511.000000  983931.000000  1.664089e+06  891586.000000   \n",
       "\n",
       "           BILL_AMT5      BILL_AMT6  \n",
       "count   30000.000000   30000.000000  \n",
       "mean    40311.400967   38871.760400  \n",
       "std     60797.155770   59554.107537  \n",
       "min    -81334.000000 -339603.000000  \n",
       "25%      1763.000000    1256.000000  \n",
       "50%     18104.500000   17071.000000  \n",
       "75%     50190.500000   49198.250000  \n",
       "max    927171.000000  961664.000000  "
      ]
     },
     "execution_count": 10,
     "metadata": {},
     "output_type": "execute_result"
    }
   ],
   "source": [
    "CardData[['BILL_AMT1','BILL_AMT2','BILL_AMT3','BILL_AMT4','BILL_AMT5','BILL_AMT6']].describe()"
   ]
  },
  {
   "cell_type": "code",
   "execution_count": 11,
   "metadata": {},
   "outputs": [
    {
     "name": "stdout",
     "output_type": "stream",
     "text": [
      "Column Name : ID\n",
      "Null Values : 0\n",
      "NaN Values : 0\n",
      "*******************************************\n",
      "Column Name : LIMIT_BAL\n",
      "Null Values : 0\n",
      "NaN Values : 0\n",
      "*******************************************\n",
      "Column Name : SEX\n",
      "Null Values : 0\n",
      "NaN Values : 0\n",
      "*******************************************\n",
      "Column Name : EDUCATION\n",
      "Null Values : 0\n",
      "NaN Values : 0\n",
      "*******************************************\n",
      "Column Name : MARRIAGE\n",
      "Null Values : 0\n",
      "NaN Values : 0\n",
      "*******************************************\n",
      "Column Name : AGE\n",
      "Null Values : 0\n",
      "NaN Values : 0\n",
      "*******************************************\n",
      "Column Name : PAY_0\n",
      "Null Values : 0\n",
      "NaN Values : 0\n",
      "*******************************************\n",
      "Column Name : PAY_2\n",
      "Null Values : 0\n",
      "NaN Values : 0\n",
      "*******************************************\n",
      "Column Name : PAY_3\n",
      "Null Values : 0\n",
      "NaN Values : 0\n",
      "*******************************************\n",
      "Column Name : PAY_4\n",
      "Null Values : 0\n",
      "NaN Values : 0\n",
      "*******************************************\n",
      "Column Name : PAY_5\n",
      "Null Values : 0\n",
      "NaN Values : 0\n",
      "*******************************************\n",
      "Column Name : PAY_6\n",
      "Null Values : 0\n",
      "NaN Values : 0\n",
      "*******************************************\n",
      "Column Name : BILL_AMT1\n",
      "Null Values : 0\n",
      "NaN Values : 0\n",
      "*******************************************\n",
      "Column Name : BILL_AMT2\n",
      "Null Values : 0\n",
      "NaN Values : 0\n",
      "*******************************************\n",
      "Column Name : BILL_AMT3\n",
      "Null Values : 0\n",
      "NaN Values : 0\n",
      "*******************************************\n",
      "Column Name : BILL_AMT4\n",
      "Null Values : 0\n",
      "NaN Values : 0\n",
      "*******************************************\n",
      "Column Name : BILL_AMT5\n",
      "Null Values : 0\n",
      "NaN Values : 0\n",
      "*******************************************\n",
      "Column Name : BILL_AMT6\n",
      "Null Values : 0\n",
      "NaN Values : 0\n",
      "*******************************************\n",
      "Column Name : PAY_AMT1\n",
      "Null Values : 0\n",
      "NaN Values : 0\n",
      "*******************************************\n",
      "Column Name : PAY_AMT2\n",
      "Null Values : 0\n",
      "NaN Values : 0\n",
      "*******************************************\n",
      "Column Name : PAY_AMT3\n",
      "Null Values : 0\n",
      "NaN Values : 0\n",
      "*******************************************\n",
      "Column Name : PAY_AMT4\n",
      "Null Values : 0\n",
      "NaN Values : 0\n",
      "*******************************************\n",
      "Column Name : PAY_AMT5\n",
      "Null Values : 0\n",
      "NaN Values : 0\n",
      "*******************************************\n",
      "Column Name : PAY_AMT6\n",
      "Null Values : 0\n",
      "NaN Values : 0\n",
      "*******************************************\n",
      "Column Name : default.payment.next.month\n",
      "Null Values : 0\n",
      "NaN Values : 0\n",
      "*******************************************\n"
     ]
    }
   ],
   "source": [
    "#looking for Missing Values in each column\n",
    "\n",
    "columns=CardData.columns.values\n",
    "\n",
    "for col in columns:\n",
    "    print(\"Column Name : {}\".format(col))\n",
    "    print(\"Null Values : {}\".format(CardData[col].isnull().sum()))\n",
    "    print(\"NaN Values : {}\".format(CardData[col].isna().sum()))\n",
    "    print('*******************************************')\n",
    "    \n",
    "#Observation :There are no missing values in the dataset"
   ]
  },
  {
   "cell_type": "code",
   "execution_count": 4,
   "metadata": {},
   "outputs": [
    {
     "data": {
      "text/plain": [
       "Index(['ID', 'LIMIT_BAL', 'SEX', 'EDUCATION', 'MARRIAGE', 'AGE', 'PAY_1',\n",
       "       'PAY_2', 'PAY_3', 'PAY_4', 'PAY_5', 'PAY_6', 'BILL_AMT1', 'BILL_AMT2',\n",
       "       'BILL_AMT3', 'BILL_AMT4', 'BILL_AMT5', 'BILL_AMT6', 'PAY_AMT1',\n",
       "       'PAY_AMT2', 'PAY_AMT3', 'PAY_AMT4', 'PAY_AMT5', 'PAY_AMT6', 'Default'],\n",
       "      dtype='object')"
      ]
     },
     "execution_count": 4,
     "metadata": {},
     "output_type": "execute_result"
    }
   ],
   "source": [
    "#Data Cleaning\n",
    "#Rename the columns 'default.payment.next.month' and 'PAY_0'\n",
    "CardData = CardData.rename(columns={'default.payment.next.month': 'Default', \n",
    "                        'PAY_0': 'PAY_1'})\n",
    "CardData.columns"
   ]
  },
  {
   "cell_type": "markdown",
   "metadata": {},
   "source": [
    "Univariant Analysis\n",
    "----------------------------"
   ]
  },
  {
   "cell_type": "code",
   "execution_count": 6,
   "metadata": {},
   "outputs": [
    {
     "data": {
      "text/plain": [
       "0    23364\n",
       "1     6636\n",
       "Name: Default, dtype: int64"
      ]
     },
     "execution_count": 6,
     "metadata": {},
     "output_type": "execute_result"
    }
   ],
   "source": [
    "#Distribution of the Class variable\n",
    "CardData['Default'].value_counts()\n",
    "#Observation :Non-Default customers - 23364, Default customers - 6636; "
   ]
  },
  {
   "cell_type": "code",
   "execution_count": 14,
   "metadata": {},
   "outputs": [
    {
     "data": {
      "text/plain": [
       "0.2212"
      ]
     },
     "execution_count": 14,
     "metadata": {},
     "output_type": "execute_result"
    }
   ],
   "source": [
    "CardData.Default.sum() / len(CardData.Default)\n",
    "#Observation :22.12% are default customers"
   ]
  },
  {
   "cell_type": "code",
   "execution_count": 15,
   "metadata": {},
   "outputs": [
    {
     "data": {
      "text/plain": [
       "2    18112\n",
       "1    11888\n",
       "Name: SEX, dtype: int64"
      ]
     },
     "execution_count": 15,
     "metadata": {},
     "output_type": "execute_result"
    }
   ],
   "source": [
    "#Categorical Variables\n",
    "CardData['SEX'].value_counts()\n",
    "#Observation :There are more female credit card holders than men"
   ]
  },
  {
   "cell_type": "code",
   "execution_count": 16,
   "metadata": {},
   "outputs": [
    {
     "data": {
      "text/plain": [
       "2    14030\n",
       "1    10585\n",
       "3     4917\n",
       "5      280\n",
       "4      123\n",
       "6       51\n",
       "0       14\n",
       "Name: EDUCATION, dtype: int64"
      ]
     },
     "execution_count": 16,
     "metadata": {},
     "output_type": "execute_result"
    }
   ],
   "source": [
    "CardData['EDUCATION'].value_counts()\n",
    "#Observation :There are undefined values 0, 5, 6"
   ]
  },
  {
   "cell_type": "code",
   "execution_count": 17,
   "metadata": {},
   "outputs": [
    {
     "data": {
      "text/plain": [
       "2    15964\n",
       "1    13659\n",
       "3      323\n",
       "0       54\n",
       "Name: MARRIAGE, dtype: int64"
      ]
     },
     "execution_count": 17,
     "metadata": {},
     "output_type": "execute_result"
    }
   ],
   "source": [
    "CardData['MARRIAGE'].value_counts()\n",
    "#Observation :There is an undefined value 0"
   ]
  },
  {
   "cell_type": "code",
   "execution_count": 18,
   "metadata": {},
   "outputs": [
    {
     "name": "stdout",
     "output_type": "stream",
     "text": [
      "Column Name : PAY_1\n",
      "Unique Values :  0    14737\n",
      "-1     5686\n",
      " 1     3688\n",
      "-2     2759\n",
      " 2     2667\n",
      " 3      322\n",
      " 4       76\n",
      " 5       26\n",
      " 8       19\n",
      " 6       11\n",
      " 7        9\n",
      "Name: PAY_1, dtype: int64\n",
      "*******************************************\n",
      "Column Name : PAY_2\n",
      "Unique Values :  0    15730\n",
      "-1     6050\n",
      " 2     3927\n",
      "-2     3782\n",
      " 3      326\n",
      " 4       99\n",
      " 1       28\n",
      " 5       25\n",
      " 7       20\n",
      " 6       12\n",
      " 8        1\n",
      "Name: PAY_2, dtype: int64\n",
      "*******************************************\n",
      "Column Name : PAY_3\n",
      "Unique Values :  0    15764\n",
      "-1     5938\n",
      "-2     4085\n",
      " 2     3819\n",
      " 3      240\n",
      " 4       76\n",
      " 7       27\n",
      " 6       23\n",
      " 5       21\n",
      " 1        4\n",
      " 8        3\n",
      "Name: PAY_3, dtype: int64\n",
      "*******************************************\n",
      "Column Name : PAY_4\n",
      "Unique Values :  0    16455\n",
      "-1     5687\n",
      "-2     4348\n",
      " 2     3159\n",
      " 3      180\n",
      " 4       69\n",
      " 7       58\n",
      " 5       35\n",
      " 6        5\n",
      " 8        2\n",
      " 1        2\n",
      "Name: PAY_4, dtype: int64\n",
      "*******************************************\n",
      "Column Name : PAY_5\n",
      "Unique Values :  0    16947\n",
      "-1     5539\n",
      "-2     4546\n",
      " 2     2626\n",
      " 3      178\n",
      " 4       84\n",
      " 7       58\n",
      " 5       17\n",
      " 6        4\n",
      " 8        1\n",
      "Name: PAY_5, dtype: int64\n",
      "*******************************************\n",
      "Column Name : PAY_6\n",
      "Unique Values :  0    16286\n",
      "-1     5740\n",
      "-2     4895\n",
      " 2     2766\n",
      " 3      184\n",
      " 4       49\n",
      " 7       46\n",
      " 6       19\n",
      " 5       13\n",
      " 8        2\n",
      "Name: PAY_6, dtype: int64\n",
      "*******************************************\n"
     ]
    }
   ],
   "source": [
    "# Repayment Status\n",
    "\n",
    "paycolumns=CardData[['PAY_1', 'PAY_2', 'PAY_3', 'PAY_4', 'PAY_5', 'PAY_6']]\n",
    "\n",
    "for p in paycolumns:\n",
    "    print(\"Column Name : {}\".format(p))\n",
    "    print(\"Unique Values : {}\".format(CardData[p].value_counts()))\n",
    "    print('*******************************************')"
   ]
  },
  {
   "cell_type": "code",
   "execution_count": null,
   "metadata": {},
   "outputs": [],
   "source": []
  },
  {
   "cell_type": "markdown",
   "metadata": {},
   "source": [
    "Data Cleaning\n",
    "--------------------"
   ]
  },
  {
   "cell_type": "code",
   "execution_count": 5,
   "metadata": {},
   "outputs": [],
   "source": [
    "#Remove the ID field from the dataset, since this is not essential for our Data Analysis\n",
    "CardData.drop('ID',axis=1,inplace=True)"
   ]
  },
  {
   "cell_type": "code",
   "execution_count": 22,
   "metadata": {},
   "outputs": [
    {
     "data": {
      "text/plain": [
       "Index(['LIMIT_BAL', 'SEX', 'EDUCATION', 'MARRIAGE', 'AGE', 'PAY_1', 'PAY_2',\n",
       "       'PAY_3', 'PAY_4', 'PAY_5', 'PAY_6', 'BILL_AMT1', 'BILL_AMT2',\n",
       "       'BILL_AMT3', 'BILL_AMT4', 'BILL_AMT5', 'BILL_AMT6', 'PAY_AMT1',\n",
       "       'PAY_AMT2', 'PAY_AMT3', 'PAY_AMT4', 'PAY_AMT5', 'PAY_AMT6', 'Default'],\n",
       "      dtype='object')"
      ]
     },
     "execution_count": 22,
     "metadata": {},
     "output_type": "execute_result"
    }
   ],
   "source": [
    "CardData.columns"
   ]
  },
  {
   "cell_type": "code",
   "execution_count": 6,
   "metadata": {},
   "outputs": [],
   "source": [
    "# Changing values of the Education field which are 0,5,6 (unknown) to 4(Others)\n",
    "CardData['EDUCATION']=CardData['EDUCATION'].apply(lambda ed: ed\n",
    "                                                  if (ed>0 and ed<4) \n",
    "                                                      else 4)"
   ]
  },
  {
   "cell_type": "code",
   "execution_count": 24,
   "metadata": {},
   "outputs": [
    {
     "data": {
      "text/plain": [
       "array([2, 1, 3, 4], dtype=int64)"
      ]
     },
     "execution_count": 24,
     "metadata": {},
     "output_type": "execute_result"
    }
   ],
   "source": [
    "CardData['EDUCATION'].unique()"
   ]
  },
  {
   "cell_type": "code",
   "execution_count": 7,
   "metadata": {},
   "outputs": [],
   "source": [
    "# Changing values of the Marriage field which are 0(unknown) to 3(Others)\n",
    "CardData['MARRIAGE']=CardData['MARRIAGE'].apply(lambda mar: mar\n",
    "                                                  if (mar>0 and mar<3) \n",
    "                                                      else 3)"
   ]
  },
  {
   "cell_type": "code",
   "execution_count": 26,
   "metadata": {},
   "outputs": [
    {
     "data": {
      "text/plain": [
       "array([1, 2, 3], dtype=int64)"
      ]
     },
     "execution_count": 26,
     "metadata": {},
     "output_type": "execute_result"
    }
   ],
   "source": [
    "CardData['MARRIAGE'].unique()"
   ]
  },
  {
   "cell_type": "code",
   "execution_count": 8,
   "metadata": {},
   "outputs": [],
   "source": [
    "#Changing values of payment status fields which are -1 and -2 to 0\n",
    "fil = (CardData.PAY_1 == -1) | (CardData.PAY_1==-2)\n",
    "CardData.loc[fil,'PAY_1']=0\n",
    "\n",
    "fil = (CardData.PAY_2 == -1) | (CardData.PAY_2==-2)\n",
    "CardData.loc[fil,'PAY_2']=0\n",
    "\n",
    "fil = (CardData.PAY_3 == -1) | (CardData.PAY_3==-2)\n",
    "CardData.loc[fil,'PAY_3']=0\n",
    "\n",
    "fil = (CardData.PAY_4 == -1) | (CardData.PAY_4==-2)\n",
    "CardData.loc[fil,'PAY_4']=0\n",
    "\n",
    "fil = (CardData.PAY_5 == -1) | (CardData.PAY_5==-2)\n",
    "CardData.loc[fil,'PAY_5']=0\n",
    "\n",
    "fil = (CardData.PAY_6 == -1) | (CardData.PAY_6==-2)\n",
    "CardData.loc[fil,'PAY_6']=0"
   ]
  },
  {
   "cell_type": "code",
   "execution_count": 28,
   "metadata": {},
   "outputs": [
    {
     "data": {
      "text/plain": [
       "0    23182\n",
       "1     3688\n",
       "2     2667\n",
       "3      322\n",
       "4       76\n",
       "5       26\n",
       "8       19\n",
       "6       11\n",
       "7        9\n",
       "Name: PAY_1, dtype: int64"
      ]
     },
     "execution_count": 28,
     "metadata": {},
     "output_type": "execute_result"
    }
   ],
   "source": [
    "CardData.PAY_1.value_counts()"
   ]
  },
  {
   "cell_type": "code",
   "execution_count": 29,
   "metadata": {},
   "outputs": [
    {
     "data": {
      "text/plain": [
       "0    25562\n",
       "2     3927\n",
       "3      326\n",
       "4       99\n",
       "1       28\n",
       "5       25\n",
       "7       20\n",
       "6       12\n",
       "8        1\n",
       "Name: PAY_2, dtype: int64"
      ]
     },
     "execution_count": 29,
     "metadata": {},
     "output_type": "execute_result"
    }
   ],
   "source": [
    "CardData.PAY_2.value_counts()"
   ]
  },
  {
   "cell_type": "code",
   "execution_count": 30,
   "metadata": {},
   "outputs": [
    {
     "data": {
      "text/plain": [
       "0    25787\n",
       "2     3819\n",
       "3      240\n",
       "4       76\n",
       "7       27\n",
       "6       23\n",
       "5       21\n",
       "1        4\n",
       "8        3\n",
       "Name: PAY_3, dtype: int64"
      ]
     },
     "execution_count": 30,
     "metadata": {},
     "output_type": "execute_result"
    }
   ],
   "source": [
    "CardData.PAY_3.value_counts()"
   ]
  },
  {
   "cell_type": "code",
   "execution_count": 31,
   "metadata": {},
   "outputs": [
    {
     "data": {
      "text/plain": [
       "0    26490\n",
       "2     3159\n",
       "3      180\n",
       "4       69\n",
       "7       58\n",
       "5       35\n",
       "6        5\n",
       "8        2\n",
       "1        2\n",
       "Name: PAY_4, dtype: int64"
      ]
     },
     "execution_count": 31,
     "metadata": {},
     "output_type": "execute_result"
    }
   ],
   "source": [
    "CardData.PAY_4.value_counts()"
   ]
  },
  {
   "cell_type": "code",
   "execution_count": 32,
   "metadata": {},
   "outputs": [
    {
     "data": {
      "text/plain": [
       "0    27032\n",
       "2     2626\n",
       "3      178\n",
       "4       84\n",
       "7       58\n",
       "5       17\n",
       "6        4\n",
       "8        1\n",
       "Name: PAY_5, dtype: int64"
      ]
     },
     "execution_count": 32,
     "metadata": {},
     "output_type": "execute_result"
    }
   ],
   "source": [
    "CardData.PAY_5.value_counts()"
   ]
  },
  {
   "cell_type": "code",
   "execution_count": 33,
   "metadata": {},
   "outputs": [
    {
     "data": {
      "text/plain": [
       "0    26921\n",
       "2     2766\n",
       "3      184\n",
       "4       49\n",
       "7       46\n",
       "6       19\n",
       "5       13\n",
       "8        2\n",
       "Name: PAY_6, dtype: int64"
      ]
     },
     "execution_count": 33,
     "metadata": {},
     "output_type": "execute_result"
    }
   ],
   "source": [
    "CardData.PAY_6.value_counts()"
   ]
  },
  {
   "cell_type": "code",
   "execution_count": 9,
   "metadata": {},
   "outputs": [],
   "source": [
    "CD2=CardData.copy()"
   ]
  },
  {
   "cell_type": "code",
   "execution_count": 35,
   "metadata": {
    "scrolled": false
   },
   "outputs": [
    {
     "data": {
      "text/plain": [
       "Index(['LIMIT_BAL', 'SEX', 'EDUCATION', 'MARRIAGE', 'AGE', 'PAY_1', 'PAY_2',\n",
       "       'PAY_3', 'PAY_4', 'PAY_5', 'PAY_6', 'BILL_AMT1', 'BILL_AMT2',\n",
       "       'BILL_AMT3', 'BILL_AMT4', 'BILL_AMT5', 'BILL_AMT6', 'PAY_AMT1',\n",
       "       'PAY_AMT2', 'PAY_AMT3', 'PAY_AMT4', 'PAY_AMT5', 'PAY_AMT6', 'Default'],\n",
       "      dtype='object')"
      ]
     },
     "execution_count": 35,
     "metadata": {},
     "output_type": "execute_result"
    }
   ],
   "source": [
    "CD2.columns"
   ]
  },
  {
   "cell_type": "code",
   "execution_count": null,
   "metadata": {},
   "outputs": [],
   "source": []
  },
  {
   "cell_type": "markdown",
   "metadata": {},
   "source": [
    "Data Visualization\n",
    "-------------\n",
    "Univariant analysis of the categorical variables was done in Tableau \n",
    "https://public.tableau.com/profile/jes7092#!/vizhome/UnivariantAnalysis-1/Dashboard1?publish=yes\n"
   ]
  },
  {
   "cell_type": "code",
   "execution_count": 36,
   "metadata": {},
   "outputs": [
    {
     "data": {
      "image/png": "[encoded data removed]",
      "text/plain": [
       "<Figure size 1440x1440 with 25 Axes>"
      ]
     },
     "metadata": {
      "needs_background": "light"
     },
     "output_type": "display_data"
    }
   ],
   "source": [
    "CardData.hist(figsize = (20, 20))\n",
    "plt.show()"
   ]
  },
  {
   "cell_type": "code",
   "execution_count": 37,
   "metadata": {},
   "outputs": [],
   "source": [
    "## Default Percentage\n",
    "def calculate_percentage (total, default_count,label):\n",
    "    print (\"Percentage of {} is {} %\".format(label,round(((default_count * 100) / total),2)))"
   ]
  },
  {
   "cell_type": "code",
   "execution_count": 38,
   "metadata": {},
   "outputs": [
    {
     "data": {
      "image/png": "[encoded data removed]",
      "text/plain": [
       "<Figure size 720x360 with 1 Axes>"
      ]
     },
     "metadata": {
      "needs_background": "light"
     },
     "output_type": "display_data"
    },
    {
     "name": "stdout",
     "output_type": "stream",
     "text": [
      "Percentage of Male Default is 24.17 %\n",
      "Percentage of Female Default is 20.78 %\n"
     ]
    }
   ],
   "source": [
    "# Gender distribution by the class variable (Default)\n",
    "# male = 1 , female = 2\n",
    "\n",
    "male= CardData['SEX'][CardData['SEX']==1].count()\n",
    "male_default = CardData['SEX'][(CardData['SEX']==1)&(CardData['Default']==1)].count()\n",
    "\n",
    "female=CardData['SEX'][CardData['SEX']==2].count()\n",
    "female_default = CardData['SEX'][(CardData['SEX']==2)&(CardData['Default']==1)].count()\n",
    "\n",
    "gender_total = [male,female]\n",
    "default_gender_total = [male_default,female_default]\n",
    "\n",
    "plt.figure(figsize=(10,5))\n",
    "plt.bar([0,1],gender_total, color='lightblue')\n",
    "plt.bar([0,1],default_gender_total, color='darkblue',alpha = 0.7)\n",
    "plt.xticks([0,1],['Male','Female'])\n",
    "plt.title('GENDER BY DEFAULT')\n",
    "plt.show()\n",
    "\n",
    "print (\"Percentage of {} is {} %\".format(\"Male Default\",round(((male_default * 100) / male),2)))\n",
    "print (\"Percentage of {} is {} %\".format(\"Female Default\",round(((female_default * 100) / female),2)))"
   ]
  },
  {
   "cell_type": "code",
   "execution_count": 39,
   "metadata": {},
   "outputs": [
    {
     "data": {
      "image/png": "[encoded data removed]",
      "text/plain": [
       "<Figure size 720x360 with 1 Axes>"
      ]
     },
     "metadata": {
      "needs_background": "light"
     },
     "output_type": "display_data"
    },
    {
     "name": "stdout",
     "output_type": "stream",
     "text": [
      "Percentage of Graduate school Default is 19.23 %\n",
      "Percentage of University Default is 23.73 %\n",
      "Percentage of High school Default is 25.16 %\n",
      "Percentage of Others Default is 7.05 %\n"
     ]
    }
   ],
   "source": [
    "# Education distribution by the class variable (Default)\n",
    "#(1 = graduate school; 2 = university; 3 = high school; 4 = others)\n",
    "\n",
    "graduate= CardData['EDUCATION'][CardData['EDUCATION']==1].count()\n",
    "graduate_default = CardData['EDUCATION'][(CardData['EDUCATION']==1)&(CardData['Default']==1)].count()\n",
    "\n",
    "university= CardData['EDUCATION'][CardData['EDUCATION']==2].count()\n",
    "university_default = CardData['EDUCATION'][(CardData['EDUCATION']==2)&(CardData['Default']==1)].count()\n",
    "\n",
    "high_sc= CardData['EDUCATION'][CardData['EDUCATION']==3].count()\n",
    "high_sc_default = CardData['EDUCATION'][(CardData['EDUCATION']==3)&(CardData['Default']==1)].count()\n",
    "\n",
    "others= CardData['EDUCATION'][CardData['EDUCATION']==4].count()\n",
    "others_default = CardData['EDUCATION'][(CardData['EDUCATION']==4)&(CardData['Default']==1)].count()\n",
    "\n",
    "educ_total = [graduate,university,high_sc,others]\n",
    "default_educ_total=  [graduate_default,university_default,high_sc_default,others_default] \n",
    "\n",
    "plt.figure(figsize=(10,5))\n",
    "plt.bar([1,2,3,4] , educ_total,color='lightblue')\n",
    "plt.bar([1,2,3,4] , default_educ_total,color='darkblue', alpha = 0.7)\n",
    "plt.xticks([1,2,3,4],['Graduate school','University','High school','others'])\n",
    "plt.title('EDUCATION BY DEFAULT')\n",
    "plt.show()\n",
    "\n",
    "print (\"Percentage of {} is {} %\".format(\"Graduate school Default\",round(((graduate_default * 100) / graduate ),2)))\n",
    "print (\"Percentage of {} is {} %\".format(\"University Default\",round(((university_default * 100) / university),2)))\n",
    "print (\"Percentage of {} is {} %\".format(\"High school Default\",round(((high_sc_default * 100) / high_sc),2)))\n",
    "print (\"Percentage of {} is {} %\".format(\"Others Default\",round(((others_default * 100) / others),2)))"
   ]
  },
  {
   "cell_type": "code",
   "execution_count": 40,
   "metadata": {},
   "outputs": [
    {
     "data": {
      "image/png": "[encoded data removed]",
      "text/plain": [
       "<Figure size 720x360 with 1 Axes>"
      ]
     },
     "metadata": {
      "needs_background": "light"
     },
     "output_type": "display_data"
    },
    {
     "name": "stdout",
     "output_type": "stream",
     "text": [
      "Percentage of Married Default is 23.47 %\n",
      "Percentage of Single Default is 20.93 %\n",
      "Percentage of Others Default is 23.61 %\n"
     ]
    }
   ],
   "source": [
    "# Marriage distribution by class variable (Default)\n",
    "# 1=married, 2=single, 3=others\n",
    "\n",
    "married= CardData['MARRIAGE'][CardData['MARRIAGE']==1].count()\n",
    "married_default = CardData['MARRIAGE'][(CardData['MARRIAGE']==1)&(CardData['Default']==1)].count()\n",
    "\n",
    "single=CardData['MARRIAGE'][CardData['MARRIAGE']==2].count()\n",
    "single_default = CardData['MARRIAGE'][(CardData['MARRIAGE']==2)&(CardData['Default']==1)].count()\n",
    "\n",
    "others=CardData['MARRIAGE'][CardData['MARRIAGE']==3].count()\n",
    "others_default = CardData['MARRIAGE'][(CardData['MARRIAGE']==3)&(CardData['Default']==1)].count()\n",
    "\n",
    "marriage_total = [married,single,others]\n",
    "default_marriage_total = [married_default,single_default,others_default]\n",
    "\n",
    "plt.figure(figsize=(10,5))\n",
    "plt.bar([1,2,3],marriage_total, color='lightblue')\n",
    "plt.bar([1,2,3],default_marriage_total, color='darkblue',alpha = 0.7)\n",
    "plt.xticks([1,2,3],['Married','Single','Other'])\n",
    "plt.title('MARRIAGE BY DEFAULT')\n",
    "plt.show()\n",
    "\n",
    "print (\"Percentage of {} is {} %\".format(\"Married Default\",round(((married_default * 100) / married),2)))\n",
    "print (\"Percentage of {} is {} %\".format(\"Single Default\",round(((single_default * 100) / single),2)))\n",
    "print (\"Percentage of {} is {} %\".format(\"Others Default\",round(((others_default * 100) / others),2)))"
   ]
  },
  {
   "cell_type": "code",
   "execution_count": 41,
   "metadata": {},
   "outputs": [
    {
     "data": {
      "image/png": "[encoded data removed]",
      "text/plain": [
       "<Figure size 1440x360 with 1 Axes>"
      ]
     },
     "metadata": {
      "needs_background": "light"
     },
     "output_type": "display_data"
    }
   ],
   "source": [
    "# Age distribution by class variable (Default)\n",
    "\n",
    "plt.figure(figsize=(20,5))\n",
    "plt.hist(CardData['AGE'], sorted(CardData['AGE'].unique()),rwidth=0.9, color ='lightblue')\n",
    "plt.hist(CardData['AGE'][(CardData['Default']==1)], sorted(CardData['AGE'].unique()),rwidth=0.9,color='darkblue',alpha = 0.7)\n",
    "plt.xlabel('Age')\n",
    "plt.ylabel('Count')\n",
    "plt.title('AGE BY DEFAULT')\n",
    "plt.show()\n",
    "\n",
    "age_persentage_dataframe = pd.DataFrame(columns=['Age', 'Percentage'])\n"
   ]
  },
  {
   "cell_type": "code",
   "execution_count": 42,
   "metadata": {},
   "outputs": [
    {
     "data": {
      "text/plain": [
       "Text(0.5, 1.05, 'BALANCE LIMIT BY DEFAULT')"
      ]
     },
     "execution_count": 42,
     "metadata": {},
     "output_type": "execute_result"
    },
    {
     "data": {
      "image/png": "[encoded data removed]",
      "text/plain": [
       "<Figure size 944.75x360 with 1 Axes>"
      ]
     },
     "metadata": {
      "needs_background": "light"
     },
     "output_type": "display_data"
    }
   ],
   "source": [
    "# Limit Balance and Default Rate Distribution\n",
    "age_survival_dist = sns.FacetGrid(CardData, hue = 'Default', aspect = 2.5, size = 5, palette = 'Blues')\n",
    "age_survival_dist.map(sns.kdeplot, 'LIMIT_BAL', shade = True)\n",
    "age_survival_dist.add_legend()\n",
    "plt.suptitle('BALANCE LIMIT BY DEFAULT', fontsize = 20, y = 1.05)"
   ]
  },
  {
   "cell_type": "code",
   "execution_count": 46,
   "metadata": {},
   "outputs": [],
   "source": [
    "## takes the variables and add numbers 1 to 6 to the prefix\n",
    "def getColNames(prefix):\n",
    "    return [prefix+str(x) for x in range(1,7)]"
   ]
  },
  {
   "cell_type": "code",
   "execution_count": 47,
   "metadata": {},
   "outputs": [
    {
     "data": {
      "text/plain": [
       "<matplotlib.axes._subplots.AxesSubplot at 0x1504b4d35c8>"
      ]
     },
     "execution_count": 47,
     "metadata": {},
     "output_type": "execute_result"
    },
    {
     "data": {
      "image/png": "[encoded data removed]",
      "text/plain": [
       "<Figure size 1080x504 with 1 Axes>"
      ]
     },
     "metadata": {
      "needs_background": "light"
     },
     "output_type": "display_data"
    }
   ],
   "source": [
    "def get_pay_mean(PAY_NUM):\n",
    "    temp = CardData[[PAY_NUM, 'Default']].groupby([PAY_NUM], as_index = True).mean()\n",
    "    pay_mean = temp['Default']\n",
    "    return pay_mean\n",
    "pay_means = {}\n",
    "for i in ['PAY_1', 'PAY_2', 'PAY_3', 'PAY_4', 'PAY_5', 'PAY_6']:\n",
    "    pay_means[i] = get_pay_mean(i)\n",
    "pay_means_results = pd.DataFrame(pay_means)\n",
    "#pay_means_results.reset_index(level=0, inplace=True)\n",
    "pay_means_results\n",
    "pay_means_results.plot(kind = 'bar', title = 'PAYMENT STATUS', figsize=(15, 7), legend=True, rot = 0, colormap = 'Set2')"
   ]
  },
  {
   "cell_type": "code",
   "execution_count": 48,
   "metadata": {},
   "outputs": [
    {
     "data": {
      "image/png": "[encoded data removed]",
      "text/plain": [
       "<Figure size 720x720 with 6 Axes>"
      ]
     },
     "metadata": {
      "needs_background": "light"
     },
     "output_type": "display_data"
    }
   ],
   "source": [
    "# BILL_AMT1 , BILL_AMT2, BILL_AMT3, BILL_AMT4, BILL_AMT5, BILL_AMT6\n",
    "\n",
    "bill_cols =  getColNames('BILL_AMT')\n",
    "figure, ax = plt.subplots(3,2)\n",
    "figure.set_size_inches(10,10)\n",
    "\n",
    "\n",
    "for b in range(len(bill_cols)):\n",
    "    row,col =  b%3, int(b/3)\n",
    "   \n",
    "    ax[row,col].hist(CardData[bill_cols[b]], 20,rwidth=0.9, color ='lightblue')\n",
    "    ax[row,col].hist(CardData[bill_cols[b]][(CardData['Default']==1)],20,rwidth=0.9,color='darkblue',alpha = 0.7)\n",
    "    ax[row,col].set_title(bill_cols[b])\n",
    "    \n",
    "    #adding scaling to graph\n",
    "    ax[row,col].set_yscale('log', nonposy='clip')\n",
    "plt.tight_layout()\n",
    "plt.show()\n"
   ]
  },
  {
   "cell_type": "code",
   "execution_count": 49,
   "metadata": {},
   "outputs": [
    {
     "data": {
      "image/png": "[encoded data removed]",
      "text/plain": [
       "<Figure size 1296x576 with 6 Axes>"
      ]
     },
     "metadata": {
      "needs_background": "light"
     },
     "output_type": "display_data"
    }
   ],
   "source": [
    "# Distribution of Previous Payment amount by Target\n",
    "ppay_cols = getColNames('PAY_AMT')\n",
    "figure, ax = plt.subplots(3,2)\n",
    "figure.set_size_inches(18,8)\n",
    "\n",
    "\n",
    "for p in range(len(ppay_cols)):\n",
    "    row,col =  p%3, int(p/3)\n",
    "   \n",
    "    ax[row,col].hist(CardData[ppay_cols[p]], 30, color ='lightblue')\n",
    "    ax[row,col].hist(CardData[ppay_cols[p]][(CardData['Default']==1)],30,color='darkblue',alpha = 0.7)\n",
    "    ax[row,col].set_title(ppay_cols[p])\n",
    "    #adding scaling to graph\n",
    "    ax[row,col].set_yscale('log', nonposy='clip')\n",
    "plt.tight_layout()\n",
    "plt.show()"
   ]
  },
  {
   "cell_type": "code",
   "execution_count": 45,
   "metadata": {},
   "outputs": [
    {
     "data": {
      "text/plain": [
       "<seaborn.axisgrid.PairGrid at 0x1504b83d308>"
      ]
     },
     "execution_count": 45,
     "metadata": {},
     "output_type": "execute_result"
    },
    {
     "data": {
      "image/png": "[encoded data removed]",
      "text/plain": [
       "<Figure size 944.75x900 with 30 Axes>"
      ]
     },
     "metadata": {
      "needs_background": "light"
     },
     "output_type": "display_data"
    }
   ],
   "source": [
    "#Distribution between AGE, MARRIAGE, SEX, EDUCATION, LIMIT BALANCE\n",
    "sns.pairplot(CardData, hue = 'Default', vars = ['AGE', 'MARRIAGE', 'SEX', 'EDUCATION', 'LIMIT_BAL'] )"
   ]
  },
  {
   "cell_type": "code",
   "execution_count": null,
   "metadata": {},
   "outputs": [],
   "source": []
  },
  {
   "cell_type": "code",
   "execution_count": null,
   "metadata": {},
   "outputs": [],
   "source": []
  },
  {
   "cell_type": "markdown",
   "metadata": {},
   "source": [
    "Correlation\n",
    "-------------"
   ]
  },
  {
   "cell_type": "code",
   "execution_count": 50,
   "metadata": {},
   "outputs": [
    {
     "data": {
      "text/plain": [
       "<matplotlib.axes._subplots.AxesSubplot at 0x1504b6e1248>"
      ]
     },
     "execution_count": 50,
     "metadata": {},
     "output_type": "execute_result"
    },
    {
     "data": {
      "image/png": "[encoded data removed]",
      "text/plain": [
       "<Figure size 2520x720 with 2 Axes>"
      ]
     },
     "metadata": {
      "needs_background": "light"
     },
     "output_type": "display_data"
    }
   ],
   "source": [
    "# Correlation Heatmap\n",
    "#style.use('fivethirtyeight')\n",
    "#sns.heatmap(CardData.corr())\n",
    "plt.subplots(figsize=(35,10))\n",
    "sns.heatmap(CardData.corr(), square=True, annot=True, fmt=\".1f\" )"
   ]
  },
  {
   "cell_type": "code",
   "execution_count": 51,
   "metadata": {},
   "outputs": [
    {
     "data": {
      "text/plain": [
       "LIMIT_BAL   -0.153520\n",
       "SEX         -0.039961\n",
       "EDUCATION    0.033842\n",
       "MARRIAGE    -0.027575\n",
       "AGE          0.013890\n",
       "PAY_1        0.396019\n",
       "PAY_2        0.327093\n",
       "PAY_3        0.286999\n",
       "PAY_4        0.269055\n",
       "PAY_5        0.260850\n",
       "PAY_6        0.244437\n",
       "BILL_AMT1   -0.019644\n",
       "BILL_AMT2   -0.014193\n",
       "BILL_AMT3   -0.014076\n",
       "BILL_AMT4   -0.010156\n",
       "BILL_AMT5   -0.006760\n",
       "BILL_AMT6   -0.005372\n",
       "PAY_AMT1    -0.072929\n",
       "PAY_AMT2    -0.058579\n",
       "PAY_AMT3    -0.056250\n",
       "PAY_AMT4    -0.056827\n",
       "PAY_AMT5    -0.055124\n",
       "PAY_AMT6    -0.053183\n",
       "Default      1.000000\n",
       "Name: Default, dtype: float64"
      ]
     },
     "execution_count": 51,
     "metadata": {},
     "output_type": "execute_result"
    }
   ],
   "source": [
    "#Correlation between every feature and the response\n",
    "\n",
    "CardData.corr()['Default']\n"
   ]
  },
  {
   "cell_type": "code",
   "execution_count": 56,
   "metadata": {
    "scrolled": true
   },
   "outputs": [
    {
     "data": {
      "text/plain": [
       "<matplotlib.axes._subplots.AxesSubplot at 0x1505045f588>"
      ]
     },
     "execution_count": 56,
     "metadata": {},
     "output_type": "execute_result"
    },
    {
     "data": {
      "image/png": "[encoded data removed]",
      "text/plain": [
       "<Figure size 1440x720 with 1 Axes>"
      ]
     },
     "metadata": {
      "needs_background": "light"
     },
     "output_type": "display_data"
    }
   ],
   "source": [
    "dataset=CardData.copy()\n",
    "data = dataset.drop(['Default'],axis=1)\n",
    "target = dataset['Default']\n",
    "\n",
    "data.corrwith(dataset['Default']).plot.bar(figsize = (20, 10), title = \"Correlation with Default\", fontsize = 20, rot = 90, grid = True)"
   ]
  },
  {
   "cell_type": "markdown",
   "metadata": {},
   "source": [
    "Outliers\n",
    "-------"
   ]
  },
  {
   "cell_type": "code",
   "execution_count": 57,
   "metadata": {},
   "outputs": [
    {
     "data": {
      "text/plain": [
       "<matplotlib.axes._subplots.AxesSubplot at 0x1505052d988>"
      ]
     },
     "execution_count": 57,
     "metadata": {},
     "output_type": "execute_result"
    },
    {
     "data": {
      "image/png": "[encoded data removed]",
      "text/plain": [
       "<Figure size 432x288 with 1 Axes>"
      ]
     },
     "metadata": {
      "needs_background": "light"
     },
     "output_type": "display_data"
    }
   ],
   "source": [
    "# Outliers\n",
    "sns.boxplot(x='PAY_AMT1',data=CardData)"
   ]
  },
  {
   "cell_type": "code",
   "execution_count": 58,
   "metadata": {},
   "outputs": [
    {
     "name": "stdout",
     "output_type": "stream",
     "text": [
      "[[1.13672015 0.81016074 0.21186989 ... 0.31413612 0.29338206 1.87637834]\n",
      " [0.3659805  0.81016074 0.21186989 ... 0.31413612 0.18087821 1.87637834]\n",
      " [0.59720239 0.81016074 0.21186989 ... 0.24868274 0.01212243 0.53294156]\n",
      " ...\n",
      " [1.05964618 1.23432296 0.21186989 ... 0.18322937 0.11900109 1.87637834]\n",
      " [0.67427636 1.23432296 1.55508562 ... 3.15253642 0.19190359 1.87637834]\n",
      " [0.90549825 1.23432296 0.21186989 ... 0.24868274 0.23713013 1.87637834]]\n",
      "(array([    6,     6,     6, ..., 29997, 29998, 29998], dtype=int64), array([11, 12, 13, ...,  6, 17, 21], dtype=int64))\n"
     ]
    },
    {
     "data": {
      "text/plain": [
       "(25927, 24)"
      ]
     },
     "execution_count": 58,
     "metadata": {},
     "output_type": "execute_result"
    }
   ],
   "source": [
    "#outliers - Z-score function\n",
    "from scipy import stats\n",
    "\n",
    "z=np.abs(stats.zscore(CardData))\n",
    "print(z)\n",
    "threshold = 3\n",
    "print(np.where(z>3))\n",
    "CardData_o=CardData[(z<3).all(axis=1)]\n",
    "CardData.shape\n",
    "CardData_o.shape\n",
    "\n",
    "#Observation:3303 rows have outliers, since it is around 11% and not erroneous we will keep those"
   ]
  },
  {
   "cell_type": "code",
   "execution_count": 59,
   "metadata": {},
   "outputs": [
    {
     "data": {
      "image/png": "[encoded data removed]",
      "text/plain": [
       "<Figure size 1080x216 with 1 Axes>"
      ]
     },
     "metadata": {
      "needs_background": "light"
     },
     "output_type": "display_data"
    }
   ],
   "source": [
    "# The features are of different scales and range\n",
    "features = CardData.drop('Default', axis = 1, inplace = False)\n",
    "plt.figure(figsize=(15,3))\n",
    "ax= CardData.drop('Default', axis=1).boxplot(CardData.columns.name, rot=90)\n",
    "outliers = dict(markerfacecolor='b', marker='p')\n",
    "ax= features.boxplot(features.columns.name, rot=90, flierprops=outliers)\n",
    "plt.xticks(size=12)\n",
    "ax.set_ylim([-5000,100000])\n",
    "plt.box(False);\n"
   ]
  },
  {
   "cell_type": "markdown",
   "metadata": {},
   "source": [
    "Feature Engineering - One Hot Encoding\n",
    "-------------------"
   ]
  },
  {
   "cell_type": "code",
   "execution_count": 10,
   "metadata": {},
   "outputs": [],
   "source": [
    "#One Hot Encoding - Converting categorical variables as binary vectors\n",
    "#Base values : female, other education, other marital status\n",
    "CD_en1=CardData.copy()\n",
    "CD_en1['GRAD_SCHOOL'] = (CD_en1['EDUCATION']== 1).astype('int')\n",
    "CD_en1['UNIVERSITY'] = (CD_en1['EDUCATION']== 2).astype('int')\n",
    "CD_en1['HIGH_SCHOOL'] = (CD_en1['EDUCATION']== 3).astype('int')\n",
    "CD_en1.drop('EDUCATION', axis=1, inplace=True)\n",
    "\n",
    "CD_en1['MALE'] = (CD_en1['SEX']==1).astype('int')\n",
    "CD_en1.drop('SEX', axis=1, inplace=True)\n",
    "\n",
    "CD_en1['MARRIED'] = (CD_en1['MARRIAGE']==1).astype('int')\n",
    "CD_en1['SINGLE'] = (CD_en1['MARRIAGE']==2).astype('int')\n",
    "CD_en1.drop('MARRIAGE', axis=1, inplace=True)\n"
   ]
  },
  {
   "cell_type": "code",
   "execution_count": null,
   "metadata": {},
   "outputs": [],
   "source": []
  },
  {
   "cell_type": "markdown",
   "metadata": {},
   "source": [
    "MACHINE LEARNING MODELS\n",
    "------\n",
    "Inorder to predict whether a customer would most likely default in the next month, we will be using different classification algorithms\n",
    "* Logistic Regression\n",
    "* Random Forest\n",
    "* SVM\n",
    "* Artifical Neural Networks"
   ]
  },
  {
   "cell_type": "code",
   "execution_count": 11,
   "metadata": {},
   "outputs": [],
   "source": [
    "X_en1= CD_en1.drop('Default',axis=1)\n",
    "y_en1=CD_en1['Default']"
   ]
  },
  {
   "cell_type": "code",
   "execution_count": 12,
   "metadata": {},
   "outputs": [],
   "source": [
    "# Splitting the dataset into the Training set and Test set\n",
    "X_train, X_test, y_train, y_test = train_test_split(X_en1, y_en1, test_size = 0.3, random_state = 0)"
   ]
  },
  {
   "cell_type": "code",
   "execution_count": 13,
   "metadata": {},
   "outputs": [],
   "source": [
    "# Feature Scaling\n",
    "from sklearn.preprocessing import StandardScaler\n",
    "sc_X = StandardScaler()\n",
    "X_train = sc_X.fit_transform(X_train)\n",
    "X_test = sc_X.transform(X_test)\n",
    "sc_y = StandardScaler()\n",
    "y_train = sc_y.fit_transform(y_train.values.reshape(-1,1))"
   ]
  },
  {
   "cell_type": "code",
   "execution_count": 66,
   "metadata": {},
   "outputs": [
    {
     "data": {
      "text/plain": [
       "(21000, 1)"
      ]
     },
     "execution_count": 66,
     "metadata": {},
     "output_type": "execute_result"
    }
   ],
   "source": [
    "y_train.shape"
   ]
  },
  {
   "cell_type": "code",
   "execution_count": 67,
   "metadata": {},
   "outputs": [
    {
     "data": {
      "text/plain": [
       "(21000, 26)"
      ]
     },
     "execution_count": 67,
     "metadata": {},
     "output_type": "execute_result"
    }
   ],
   "source": [
    "X_train.shape"
   ]
  },
  {
   "cell_type": "code",
   "execution_count": 14,
   "metadata": {},
   "outputs": [],
   "source": [
    "from sklearn import preprocessing\n",
    "from sklearn import utils\n",
    "\n",
    "lab_enc = preprocessing.LabelEncoder()\n",
    "y_train_encoded = lab_enc.fit_transform(np.ravel(y_train))"
   ]
  },
  {
   "cell_type": "markdown",
   "metadata": {},
   "source": [
    "Imbalanced Data\n",
    "---------"
   ]
  },
  {
   "cell_type": "code",
   "execution_count": 84,
   "metadata": {
    "scrolled": true
   },
   "outputs": [
    {
     "name": "stdout",
     "output_type": "stream",
     "text": [
      "Time 0.27880072593688965\n",
      "                 Model  Accuracy  Precision    Recall  F1 Score       ROC\n",
      "0  Logistic Regression  0.818778   0.678201  0.303093  0.418953  0.631787\n"
     ]
    }
   ],
   "source": [
    "#*************************************************************************************************************\n",
    "#                                      LOGISTIC REGRESSION : Imbalanced\n",
    "#*************************************************************************************************************\n",
    "lr = LogisticRegression(solver='liblinear',multi_class='ovr')\n",
    "start = time()\n",
    "lr.fit(X_train, np.ravel(y_train_encoded))\n",
    "end = time()\n",
    "train_time_log=end-start\n",
    "print (\"Time\",train_time_log)\n",
    "start_t = time()\n",
    "y_pred = lr.predict(X_test)\n",
    "end_t = time()\n",
    "test_time_log=end_t-start_t\n",
    "roc=roc_auc_score(y_test, y_pred)\n",
    "acc = accuracy_score(y_test, y_pred)\n",
    "prec = precision_score(y_test, y_pred)\n",
    "rec = recall_score(y_test, y_pred)\n",
    "f1 = f1_score(y_test, y_pred)\n",
    "\n",
    "lrscore = pd.DataFrame([['Logistic Regression', acc,prec,rec, f1,roc]],\n",
    "               columns = ['Model', 'Accuracy', 'Precision', 'Recall', 'F1 Score','ROC'])\n",
    "print(lrscore)"
   ]
  },
  {
   "cell_type": "code",
   "execution_count": 70,
   "metadata": {},
   "outputs": [
    {
     "name": "stdout",
     "output_type": "stream",
     "text": [
      "cross_val_score:  0.7788\n",
      "cross_val_standard_deviation:  0.0002\n"
     ]
    }
   ],
   "source": [
    "#Cross Validation - Logistic Regression\n",
    "CV_score_LR=cross_val_score(LogisticRegression(solver='liblinear',multi_class='ovr'), X_en1, y_en1,cv=5)\n",
    "print('cross_val_score: ',CV_score_LR.mean().round(4))\n",
    "print('cross_val_standard_deviation: ',CV_score_LR.std().round(4))"
   ]
  },
  {
   "cell_type": "code",
   "execution_count": 85,
   "metadata": {},
   "outputs": [
    {
     "name": "stdout",
     "output_type": "stream",
     "text": [
      "SVM : Training Time 38.66406178474426\n",
      "  Model  Accuracy  Precision    Recall  F1 Score      ROC\n",
      "0   SVM  0.821556   0.667671  0.342784  0.452997  0.64795\n"
     ]
    }
   ],
   "source": [
    "#*************************************************************************************************************\n",
    "#                                           SVM : Imbalanced\n",
    "#*************************************************************************************************************\n",
    "svm = SVC(kernel = 'rbf', random_state = 0)\n",
    "start=time()\n",
    "svm.fit(X_train, np.ravel(y_train_encoded))\n",
    "end = time()\n",
    "train_time_svm=end-start\n",
    "start_t=time()\n",
    "y_pred = svm.predict(X_test)\n",
    "end_t = time()\n",
    "test_time_svm=end_t-start_t\n",
    "roc=roc_auc_score(y_test, y_pred)\n",
    "acc = accuracy_score(y_test, y_pred)\n",
    "prec = precision_score(y_test, y_pred)\n",
    "rec = recall_score(y_test, y_pred)\n",
    "f1 = f1_score(y_test, y_pred)\n",
    "#auc=roc_auc_score(y_test, y_pred)\n",
    "\n",
    "print(\"SVM : Training Time\", train_time_svm)\n",
    "\n",
    "svmscore = pd.DataFrame([['SVM', acc,prec,rec, f1,roc]],\n",
    "               columns = ['Model', 'Accuracy', 'Precision', 'Recall', 'F1 Score','ROC'])\n",
    "print(svmscore)"
   ]
  },
  {
   "cell_type": "code",
   "execution_count": 72,
   "metadata": {},
   "outputs": [
    {
     "name": "stdout",
     "output_type": "stream",
     "text": [
      "cross_val_score:  0.7795\n",
      "cross_val_standard_deviation:  0.0011\n"
     ]
    }
   ],
   "source": [
    "# Cross Validation - SVM\n",
    "CV_score_svm=cross_val_score(SVC(gamma='auto'), X_en1, y_en1,cv=5)\n",
    "print('cross_val_score: ',CV_score_svm.mean().round(4))\n",
    "print('cross_val_standard_deviation: ',CV_score_svm.std().round(4))"
   ]
  },
  {
   "cell_type": "code",
   "execution_count": null,
   "metadata": {},
   "outputs": [],
   "source": []
  },
  {
   "cell_type": "code",
   "execution_count": 86,
   "metadata": {},
   "outputs": [
    {
     "name": "stdout",
     "output_type": "stream",
     "text": [
      "RF : Training Time 2.7515134811401367\n",
      "           Model  Accuracy  Precision    Recall  F1 Score       ROC\n",
      "0  Random Forest  0.815222   0.626253  0.354124   0.45242  0.648025\n"
     ]
    }
   ],
   "source": [
    "#*************************************************************************************************************\n",
    "#                                        Random Forest - Imbalanced\n",
    "#*************************************************************************************************************\n",
    "rf = RandomForestClassifier(n_estimators=40)\n",
    "start=time()\n",
    "rf.fit(X_train, np.ravel(y_train_encoded))\n",
    "end = time()\n",
    "train_time_rf=end-start\n",
    "start_t=time()\n",
    "y_pred = rf.predict(X_test)\n",
    "end_t = time()\n",
    "test_time_rf=end_t-start_t\n",
    "roc=roc_auc_score(y_test, y_pred)\n",
    "acc = accuracy_score(y_test, y_pred)\n",
    "prec = precision_score(y_test, y_pred)\n",
    "rec = recall_score(y_test, y_pred)\n",
    "f1 = f1_score(y_test, y_pred)\n",
    "#auc=roc_auc_score(y_test, y_pred)\n",
    "#roc=roc_curve(y_test, y_pred)\n",
    "print(\"RF : Training Time\", train_time_rf)\n",
    "rfscore = pd.DataFrame([['Random Forest', acc,prec,rec, f1,roc]],\n",
    "               columns = ['Model', 'Accuracy', 'Precision', 'Recall', 'F1 Score','ROC'])\n",
    "print(rfscore)"
   ]
  },
  {
   "cell_type": "code",
   "execution_count": 77,
   "metadata": {},
   "outputs": [
    {
     "data": {
      "text/plain": [
       "(array([0.        , 0.05368272, 1.        ]),\n",
       " array([0.        , 0.34793814, 1.        ]),\n",
       " array([2, 1, 0], dtype=int64))"
      ]
     },
     "execution_count": 77,
     "metadata": {},
     "output_type": "execute_result"
    }
   ],
   "source": [
    "roc=roc_curve(y_test, y_pred)\n",
    "roc"
   ]
  },
  {
   "cell_type": "code",
   "execution_count": 74,
   "metadata": {},
   "outputs": [
    {
     "name": "stdout",
     "output_type": "stream",
     "text": [
      "cross_val_score:  0.8136\n",
      "cross_val_standard_deviation:  0.0083\n"
     ]
    }
   ],
   "source": [
    "# Cross Validation - Random Forest\n",
    "CV_score_rf=cross_val_score(RandomForestClassifier(n_estimators=40),X_en1, y_en1,cv=5)\n",
    "print('cross_val_score: ',CV_score_rf.mean().round(4))\n",
    "print('cross_val_standard_deviation: ',CV_score_rf.std().round(4))"
   ]
  },
  {
   "cell_type": "code",
   "execution_count": 189,
   "metadata": {
    "scrolled": true
   },
   "outputs": [
    {
     "data": {
      "image/png": "[encoded data removed]",
      "text/plain": [
       "<Figure size 504x288 with 1 Axes>"
      ]
     },
     "metadata": {
      "needs_background": "light"
     },
     "output_type": "display_data"
    }
   ],
   "source": [
    "#Feature Importance\n",
    "cols=X_en1.columns\n",
    "X_train_df = pd.DataFrame(data=X_train,columns=cols)\n",
    "tmp=pd.DataFrame({'Feature':X_train_df.columns,'Feature importance':rf.feature_importances_})\n",
    "tmp=tmp.sort_values(by='Feature importance',ascending= False)\n",
    "plt.figure(figsize=(7,4))\n",
    "plt.title('Features importance', fontsize=14)\n",
    "s=sns.barplot(x='Feature',y='Feature importance',data=tmp)\n",
    "s.set_xticklabels(s.get_xticklabels(),rotation=90)\n",
    "plt.show()"
   ]
  },
  {
   "cell_type": "code",
   "execution_count": null,
   "metadata": {},
   "outputs": [],
   "source": []
  },
  {
   "cell_type": "code",
   "execution_count": 16,
   "metadata": {},
   "outputs": [
    {
     "name": "stdout",
     "output_type": "stream",
     "text": [
      "Neural Networks : Training Time 7.524958848953247\n",
      "             Model  Accuracy  Precision    Recall  F1 Score       ROC\n",
      "0  Neural Networks  0.816889   0.652401  0.322165  0.431332  0.637499\n"
     ]
    }
   ],
   "source": [
    "#********************************************************************************************************\n",
    "#                              Neural Networks : Imbalanced\n",
    "#********************************************************************************************************\n",
    "\n",
    "#ann = MLPClassifier(hidden_layer_sizes=(100,100,100), max_iter=100, alpha=0.0001, solver='sgd', verbose=10, random_state=21, tol=0.000000001)\n",
    "ann= MLPClassifier(hidden_layer_sizes=(5,10,2),max_iter=100,activation = 'relu',solver='sgd',random_state=1)\n",
    "start= time()\n",
    "ann.fit(X_train, np.ravel(y_train_encoded))\n",
    "end = time()\n",
    "train_time_nn=end-start\n",
    "start_t= time()\n",
    "y_pred = ann.predict(X_test)\n",
    "end_t = time()\n",
    "test_time_nn=end_t-start_t\n",
    "roc=roc_auc_score(y_test, y_pred)\n",
    "acc = accuracy_score(y_test, y_pred)\n",
    "prec = precision_score(y_test, y_pred)\n",
    "rec = recall_score(y_test, y_pred)\n",
    "f1 = f1_score(y_test, y_pred)\n",
    "auc=roc_auc_score(y_test, y_pred)\n",
    "print(\"Neural Networks : Training Time\", train_time_nn)\n",
    "annscore = pd.DataFrame([['Neural Networks', acc,prec,rec, f1,roc]], \n",
    "                        columns = ['Model', 'Accuracy', 'Precision', 'Recall', 'F1 Score','ROC'])\n",
    "\n",
    "print(annscore)"
   ]
  },
  {
   "cell_type": "code",
   "execution_count": 88,
   "metadata": {},
   "outputs": [
    {
     "name": "stdout",
     "output_type": "stream",
     "text": [
      "cross_val_score:  0.7788\n",
      "cross_val_standard_deviation:  0.0001\n"
     ]
    }
   ],
   "source": [
    "# Cross Validation - Neural Networks\n",
    "CV_score_ann=cross_val_score(MLPClassifier(hidden_layer_sizes=(5,10,2),max_iter=100,activation = 'relu',solver='sgd',random_state=1),X_en1, y_en1,cv=5)\n",
    "print('cross_val_score: ',CV_score_ann.mean().round(4))\n",
    "print('cross_val_standard_deviation: ',CV_score_ann.std().round(4))"
   ]
  },
  {
   "cell_type": "code",
   "execution_count": 88,
   "metadata": {},
   "outputs": [
    {
     "data": {
      "image/png": "[encoded data removed]",
      "text/plain": [
       "<Figure size 432x288 with 1 Axes>"
      ]
     },
     "metadata": {
      "needs_background": "light"
     },
     "output_type": "display_data"
    }
   ],
   "source": [
    "# Comparison of the training time taken by the ML models\n",
    "model = ['Log Reg', 'SVM', 'Random forest', 'KNN7']\n",
    "Train_Time = [\n",
    "    train_time_log,\n",
    "    train_time_svm,\n",
    "    train_time_rf,\n",
    "    train_time_nn\n",
    "    \n",
    "]\n",
    "index = np.arange(len(model))\n",
    "plt.bar(index, Train_Time)\n",
    "plt.xlabel('Machine Learning Models', fontsize=15)\n",
    "plt.ylabel('Training Time', fontsize=15)\n",
    "plt.xticks(index, model, fontsize=8, )\n",
    "plt.title('Comparison of Training Time of all ML models')\n",
    "plt.show()"
   ]
  },
  {
   "cell_type": "code",
   "execution_count": 89,
   "metadata": {},
   "outputs": [
    {
     "data": {
      "image/png": "[encoded data removed]",
      "text/plain": [
       "<Figure size 432x288 with 1 Axes>"
      ]
     },
     "metadata": {
      "needs_background": "light"
     },
     "output_type": "display_data"
    }
   ],
   "source": [
    "# Comparison of the testing time taken by the ML models\n",
    "model = ['Log Reg', 'SVM', 'Random forest', 'KNN']\n",
    "Test_Time = [\n",
    "    test_time_log,\n",
    "    test_time_svm,\n",
    "    test_time_rf,\n",
    "    test_time_nn\n",
    "    \n",
    "]\n",
    "index = np.arange(len(model))\n",
    "plt.bar(index, Test_Time)\n",
    "plt.xlabel('Machine Learning Models', fontsize=15)\n",
    "plt.ylabel('Testing Time', fontsize=15)\n",
    "plt.xticks(index, model, fontsize=8, )\n",
    "plt.title('Comparison of Testing Time of all ML models')\n",
    "plt.show()"
   ]
  },
  {
   "cell_type": "code",
   "execution_count": null,
   "metadata": {},
   "outputs": [],
   "source": []
  },
  {
   "cell_type": "markdown",
   "metadata": {},
   "source": [
    "RANDOM UNDER-SAMPLING\n",
    "-------"
   ]
  },
  {
   "cell_type": "code",
   "execution_count": 91,
   "metadata": {
    "scrolled": true
   },
   "outputs": [
    {
     "name": "stdout",
     "output_type": "stream",
     "text": [
      "Original dataset shape Counter({0: 16304, 1: 4696})\n",
      "Random under-sampling:\n",
      "Resampled dataset shape Counter({0: 4696, 1: 4696})\n"
     ]
    }
   ],
   "source": [
    "#Random Undersampling\n",
    "print('Original dataset shape %s' % Counter(y_train_encoded))\n",
    "print('Random under-sampling:')\n",
    "rus = RandomUnderSampler(random_state=42)\n",
    "X_train_rus, y_train_rus = rus.fit_resample(X_train, y_train_encoded)\n",
    "print('Resampled dataset shape %s' % Counter(y_train_rus))"
   ]
  },
  {
   "cell_type": "code",
   "execution_count": 92,
   "metadata": {},
   "outputs": [
    {
     "name": "stdout",
     "output_type": "stream",
     "text": [
      "                 Model  Accuracy  Precision    Recall  F1 Score       ROC\n",
      "0  Logistic Regression  0.785444   0.502086  0.558247   0.52868  0.703061\n"
     ]
    }
   ],
   "source": [
    "#*************************************************************************************************************\n",
    "#                                      LOGISTIC REGRESSION : UnderSampled\n",
    "#*************************************************************************************************************\n",
    "lr = LogisticRegression(solver='liblinear',multi_class='ovr')\n",
    "lr.fit(X_train_rus, y_train_rus)\n",
    "y_pred = lr.predict(X_test)\n",
    "roc=roc_auc_score(y_test, y_pred)\n",
    "acc = accuracy_score(y_test, y_pred)\n",
    "prec = precision_score(y_test, y_pred)\n",
    "rec = recall_score(y_test, y_pred)\n",
    "f1 = f1_score(y_test, y_pred)\n",
    "\n",
    "lrscore_u = pd.DataFrame([['Logistic Regression', acc,prec,rec, f1,roc]],\n",
    "               columns = ['Model', 'Accuracy', 'Precision', 'Recall', 'F1 Score','ROC'])\n",
    "print(lrscore_u)"
   ]
  },
  {
   "cell_type": "code",
   "execution_count": 93,
   "metadata": {},
   "outputs": [
    {
     "name": "stdout",
     "output_type": "stream",
     "text": [
      "cross_val_score:  0.7745\n",
      "cross_val_standard_deviation:  0.0085\n"
     ]
    }
   ],
   "source": [
    "#Cross Validation - Logistic Regression\n",
    "kf= KFold(n_splits=5, random_state=0,shuffle=False)\n",
    "cv_rus_pipeline= make_pipeline(RandomUnderSampler(random_state=42), LogisticRegression(solver='liblinear'))\n",
    "CV_score_lr=cross_val_score(cv_rus_pipeline, X_train, y_train_encoded, scoring='accuracy',cv=kf)\n",
    "print('cross_val_score: ',CV_score_lr.mean().round(4))\n",
    "print('cross_val_standard_deviation: ',CV_score_lr.std().round(4))"
   ]
  },
  {
   "cell_type": "code",
   "execution_count": 94,
   "metadata": {},
   "outputs": [
    {
     "name": "stdout",
     "output_type": "stream",
     "text": [
      "  Model  Accuracy  Precision    Recall  F1 Score       ROC\n",
      "0   SVM  0.776667   0.485056  0.585567  0.530593  0.707373\n"
     ]
    }
   ],
   "source": [
    "#*************************************************************************************************************\n",
    "#                                             SVM :UnderSampled\n",
    "#*************************************************************************************************************\n",
    "svm = SVC(kernel = 'rbf', random_state = 0)\n",
    "svm.fit(X_train_rus, y_train_rus)\n",
    "\n",
    "y_pred = svm.predict(X_test)\n",
    "roc=roc_auc_score(y_test, y_pred)\n",
    "acc = accuracy_score(y_test, y_pred)\n",
    "prec = precision_score(y_test, y_pred)\n",
    "rec = recall_score(y_test, y_pred)\n",
    "f1 = f1_score(y_test, y_pred)\n",
    "\n",
    "svmscore_u = pd.DataFrame([['SVM', acc,prec,rec, f1,roc]],\n",
    "               columns = ['Model', 'Accuracy', 'Precision', 'Recall', 'F1 Score','ROC'])\n",
    "print(svmscore_u)"
   ]
  },
  {
   "cell_type": "code",
   "execution_count": 95,
   "metadata": {},
   "outputs": [
    {
     "name": "stdout",
     "output_type": "stream",
     "text": [
      "cross_val_score:  0.7618\n",
      "cross_val_standard_deviation:  0.0035\n"
     ]
    }
   ],
   "source": [
    "#Cross Validation - SVM\n",
    "cv_rus_pipeline= make_pipeline(RandomUnderSampler(random_state=42), SVC(kernel = 'rbf', random_state = 0))\n",
    "CV_score_svm=cross_val_score(cv_rus_pipeline, X_train, y_train_encoded, scoring='accuracy',cv=kf)\n",
    "print('cross_val_score: ',CV_score_svm.mean().round(4))\n",
    "print('cross_val_standard_deviation: ',CV_score_svm.std().round(4))"
   ]
  },
  {
   "cell_type": "code",
   "execution_count": 96,
   "metadata": {},
   "outputs": [
    {
     "name": "stdout",
     "output_type": "stream",
     "text": [
      "           Model  Accuracy  Precision    Recall  F1 Score      ROC\n",
      "0  Random Forest  0.741778   0.431624  0.624742  0.510531  0.69934\n"
     ]
    }
   ],
   "source": [
    "#*************************************************************************************************************\n",
    "#                                        RANDOM FOREST :UnderSampled\n",
    "#*************************************************************************************************************\n",
    "rf = RandomForestClassifier(n_estimators=40)\n",
    "rf.fit(X_train_rus, y_train_rus)\n",
    "y_pred = rf.predict(X_test)\n",
    "roc=roc_auc_score(y_test, y_pred)\n",
    "acc = accuracy_score(y_test, y_pred)\n",
    "prec = precision_score(y_test, y_pred)\n",
    "rec = recall_score(y_test, y_pred)\n",
    "f1 = f1_score(y_test, y_pred)\n",
    "\n",
    "rfscore_u = pd.DataFrame([['Random Forest', acc,prec,rec, f1,roc]],\n",
    "               columns = ['Model', 'Accuracy', 'Precision', 'Recall', 'F1 Score','ROC'])\n",
    "print(rfscore_u)"
   ]
  },
  {
   "cell_type": "code",
   "execution_count": 97,
   "metadata": {},
   "outputs": [
    {
     "name": "stdout",
     "output_type": "stream",
     "text": [
      "cross_val_score:  0.7355\n",
      "cross_val_standard_deviation:  0.0056\n"
     ]
    }
   ],
   "source": [
    "# Cross Validation - Random Forest\n",
    "cv_rus_pipeline= make_pipeline(RandomUnderSampler(random_state=42), RandomForestClassifier(n_estimators=40))\n",
    "CV_score_rf=cross_val_score(cv_rus_pipeline, X_train, y_train_encoded, scoring='accuracy',cv=kf)\n",
    "print('cross_val_score: ',CV_score_rf.mean().round(4))\n",
    "print('cross_val_standard_deviation: ',CV_score_rf.std().round(4))"
   ]
  },
  {
   "cell_type": "code",
   "execution_count": 188,
   "metadata": {},
   "outputs": [
    {
     "data": {
      "image/png": "[encoded data removed]",
      "text/plain": [
       "<Figure size 504x288 with 1 Axes>"
      ]
     },
     "metadata": {
      "needs_background": "light"
     },
     "output_type": "display_data"
    }
   ],
   "source": [
    "cols=X_en1.columns\n",
    "X_train_df = pd.DataFrame(data=X_train_rus,columns=cols)\n",
    "tmp=pd.DataFrame({'Feature':X_train_df.columns,'Feature importance':rf.feature_importances_})\n",
    "tmp=tmp.sort_values(by='Feature importance',ascending= False)\n",
    "plt.figure(figsize=(7,4))\n",
    "plt.title('Features importance', fontsize=14)\n",
    "s=sns.barplot(x='Feature',y='Feature importance',data=tmp)\n",
    "s.set_xticklabels(s.get_xticklabels(),rotation=90)\n",
    "plt.show()"
   ]
  },
  {
   "cell_type": "code",
   "execution_count": 135,
   "metadata": {},
   "outputs": [
    {
     "name": "stdout",
     "output_type": "stream",
     "text": [
      "             Model  Accuracy  Precision    Recall  F1 Score       ROC\n",
      "0  Neural Networks  0.768667   0.469632  0.565979  0.513324  0.695171\n"
     ]
    }
   ],
   "source": [
    "#********************************************************************************************************\n",
    "#                                 Neural Networks : UnderSampled\n",
    "#********************************************************************************************************\n",
    "from sklearn.neural_network import MLPClassifier\n",
    "#ann = MLPClassifier(hidden_layer_sizes=(100,100,100), max_iter=100, alpha=0.0001, solver='sgd', verbose=10, random_state=21, tol=0.000000001)\n",
    "ann= MLPClassifier(hidden_layer_sizes=(5,10,2),max_iter=100,activation = 'relu',solver='sgd',random_state=1)\n",
    "ann.fit(X_train_rus, y_train_rus)\n",
    "y_pred = ann.predict(X_test)\n",
    "roc=roc_auc_score(y_test, y_pred)\n",
    "acc = accuracy_score(y_test, y_pred)\n",
    "prec = precision_score(y_test, y_pred)\n",
    "rec = recall_score(y_test, y_pred)\n",
    "f1 = f1_score(y_test, y_pred)\n",
    "\n",
    "annscore_u = pd.DataFrame([['Neural Networks', acc,prec,rec, f1,roc]], \n",
    "                        columns = ['Model', 'Accuracy', 'Precision', 'Recall', 'F1 Score','ROC'])\n",
    "\n",
    "print(annscore_u)"
   ]
  },
  {
   "cell_type": "code",
   "execution_count": 136,
   "metadata": {},
   "outputs": [
    {
     "name": "stdout",
     "output_type": "stream",
     "text": [
      "cross_val_score:  0.7691\n",
      "cross_val_standard_deviation:  0.0086\n"
     ]
    }
   ],
   "source": [
    "# Cross Validation - Random Forest\n",
    "ann= MLPClassifier(hidden_layer_sizes=(5,10,2),max_iter=100,activation = 'relu',solver='sgd',random_state=1)\n",
    "cv_rus_pipeline= make_pipeline(RandomUnderSampler(random_state=42), ann)\n",
    "CV_score_nn=cross_val_score(cv_rus_pipeline, X_train, y_train_encoded, scoring='accuracy',cv=kf)\n",
    "print('cross_val_score: ',CV_score_nn.mean().round(4))\n",
    "print('cross_val_standard_deviation: ',CV_score_nn.std().round(4))"
   ]
  },
  {
   "cell_type": "code",
   "execution_count": null,
   "metadata": {},
   "outputs": [],
   "source": []
  },
  {
   "cell_type": "markdown",
   "metadata": {},
   "source": [
    "Random Over-Sampling\n",
    "------------"
   ]
  },
  {
   "cell_type": "code",
   "execution_count": 137,
   "metadata": {
    "scrolled": true
   },
   "outputs": [
    {
     "name": "stdout",
     "output_type": "stream",
     "text": [
      "Original dataset shape Counter({0: 16304, 1: 4696})\n",
      "Random over-sampling:\n",
      "Resampled dataset shape Counter({0: 16304, 1: 16304})\n"
     ]
    }
   ],
   "source": [
    "#Random Oversampling\n",
    "print('Original dataset shape %s' % Counter(y_train_encoded))\n",
    "print('Random over-sampling:')\n",
    "ros = RandomOverSampler(random_state=0)\n",
    "X_train_ros, y_train_ros = ros.fit_resample(X_train, y_train_encoded)\n",
    "print('Resampled dataset shape %s' % Counter(y_train_ros))"
   ]
  },
  {
   "cell_type": "code",
   "execution_count": 138,
   "metadata": {},
   "outputs": [
    {
     "data": {
      "text/plain": [
       "(32608, 26)"
      ]
     },
     "execution_count": 138,
     "metadata": {},
     "output_type": "execute_result"
    }
   ],
   "source": [
    "X_train_ros.shape"
   ]
  },
  {
   "cell_type": "code",
   "execution_count": 139,
   "metadata": {},
   "outputs": [
    {
     "data": {
      "text/plain": [
       "(32608,)"
      ]
     },
     "execution_count": 139,
     "metadata": {},
     "output_type": "execute_result"
    }
   ],
   "source": [
    "y_train_ros.shape"
   ]
  },
  {
   "cell_type": "code",
   "execution_count": 140,
   "metadata": {},
   "outputs": [
    {
     "name": "stdout",
     "output_type": "stream",
     "text": [
      "                 Model  Accuracy  Precision    Recall  F1 Score       ROC\n",
      "0  Logistic Regression     0.782   0.495036  0.565464  0.527911  0.703483\n"
     ]
    }
   ],
   "source": [
    "#*************************************************************************************************************\n",
    "#                                      LOGISTIC REGRESSION :OVERSAMPLED\n",
    "#*************************************************************************************************************\n",
    "lr = LogisticRegression(solver='liblinear')\n",
    "lr.fit(X_train_ros, y_train_ros)\n",
    "y_pred = lr.predict(X_test)\n",
    "roc=roc_auc_score(y_test, y_pred)\n",
    "acc = accuracy_score(y_test, y_pred)\n",
    "prec = precision_score(y_test, y_pred)\n",
    "rec = recall_score(y_test, y_pred)\n",
    "f1 = f1_score(y_test, y_pred)\n",
    "\n",
    "lrscore_o = pd.DataFrame([['Logistic Regression', acc,prec,rec, f1,roc]],\n",
    "               columns = ['Model', 'Accuracy', 'Precision', 'Recall', 'F1 Score','ROC'])\n",
    "print(lrscore_o)"
   ]
  },
  {
   "cell_type": "code",
   "execution_count": 141,
   "metadata": {},
   "outputs": [
    {
     "name": "stdout",
     "output_type": "stream",
     "text": [
      "cross_val_score:  0.774\n",
      "cross_val_standard_deviation:  0.0093\n"
     ]
    }
   ],
   "source": [
    "#Cross Validation - Logistic Regression\n",
    "from imblearn.pipeline import Pipeline, make_pipeline\n",
    "from sklearn.model_selection import KFold\n",
    "kf= KFold(n_splits=5, random_state=0,shuffle=False)\n",
    "cv_ros_pipeline= make_pipeline(RandomOverSampler(random_state=42), LogisticRegression(solver='liblinear'))\n",
    "CV_score_LR=cross_val_score(cv_ros_pipeline, X_train, y_train_encoded, scoring='accuracy',cv=kf)\n",
    "print('cross_val_score: ',CV_score_LR.mean().round(4))\n",
    "print('cross_val_standard_deviation: ',CV_score_LR.std().round(4))"
   ]
  },
  {
   "cell_type": "code",
   "execution_count": 142,
   "metadata": {},
   "outputs": [
    {
     "name": "stdout",
     "output_type": "stream",
     "text": [
      "  Model  Accuracy  Precision    Recall  F1 Score       ROC\n",
      "0   SVM  0.777222   0.485814  0.573711  0.526117  0.703428\n"
     ]
    }
   ],
   "source": [
    "#*************************************************************************************************************\n",
    "#                                             SVM : OVERSAMPLED\n",
    "#*************************************************************************************************************\n",
    "svm = SVC(kernel = 'rbf', random_state = 0)\n",
    "svm.fit(X_train_ros, y_train_ros)\n",
    "\n",
    "y_pred = svm.predict(X_test)\n",
    "roc=roc_auc_score(y_test, y_pred)\n",
    "acc = accuracy_score(y_test, y_pred)\n",
    "prec = precision_score(y_test, y_pred)\n",
    "rec = recall_score(y_test, y_pred)\n",
    "f1 = f1_score(y_test, y_pred)\n",
    "\n",
    "svmscore_o = pd.DataFrame([['SVM', acc,prec,rec, f1,roc]],\n",
    "               columns = ['Model', 'Accuracy', 'Precision', 'Recall', 'F1 Score','ROC'])\n",
    "print(svmscore_o)"
   ]
  },
  {
   "cell_type": "code",
   "execution_count": 143,
   "metadata": {},
   "outputs": [
    {
     "name": "stdout",
     "output_type": "stream",
     "text": [
      "cross_val_score:  0.768\n",
      "cross_val_standard_deviation:  0.0073\n"
     ]
    }
   ],
   "source": [
    "#Cross Validation - SVM\n",
    "kf= KFold(n_splits=5, random_state=0,shuffle=False)\n",
    "cv_ros_pipeline= make_pipeline(RandomOverSampler(random_state=42), SVC(kernel = 'rbf', random_state = 0))\n",
    "CV_score_svm=cross_val_score(cv_ros_pipeline, X_train, y_train_encoded, scoring='accuracy',cv=kf)\n",
    "print('cross_val_score: ',CV_score_svm.mean().round(4))\n",
    "print('cross_val_standard_deviation: ',CV_score_svm.std().round(4))"
   ]
  },
  {
   "cell_type": "code",
   "execution_count": 169,
   "metadata": {},
   "outputs": [
    {
     "name": "stdout",
     "output_type": "stream",
     "text": [
      "           Model  Accuracy  Precision    Recall  F1 Score       ROC\n",
      "0  Random Forest  0.809667   0.582187  0.414433  0.484192  0.666352\n"
     ]
    }
   ],
   "source": [
    "#*************************************************************************************************************\n",
    "#                                        RANDOM FOREST : OVERSAMPLED\n",
    "#*************************************************************************************************************\n",
    "rf = RandomForestClassifier(n_estimators=40)\n",
    "rf.fit(X_train_ros, y_train_ros)\n",
    "y_pred = rf.predict(X_test)\n",
    "roc=roc_auc_score(y_test, y_pred)\n",
    "acc = accuracy_score(y_test, y_pred)\n",
    "prec = precision_score(y_test, y_pred)\n",
    "rec = recall_score(y_test, y_pred)\n",
    "f1 = f1_score(y_test, y_pred)\n",
    "\n",
    "rfscore_o = pd.DataFrame([['Random Forest', acc,prec,rec, f1,roc]],\n",
    "               columns = ['Model', 'Accuracy', 'Precision', 'Recall', 'F1 Score','ROC'])\n",
    "print(rfscore_o)"
   ]
  },
  {
   "cell_type": "code",
   "execution_count": 145,
   "metadata": {},
   "outputs": [
    {
     "name": "stdout",
     "output_type": "stream",
     "text": [
      "cross_val_score:  0.808\n",
      "cross_val_standard_deviation:  0.0051\n"
     ]
    }
   ],
   "source": [
    "# Cross Validation - Random Forest\n",
    "kf= KFold(n_splits=5, random_state=0,shuffle=False)\n",
    "cv_ros_pipeline= make_pipeline(RandomOverSampler(random_state=42), RandomForestClassifier(n_estimators=40))\n",
    "CV_score_rf=cross_val_score(cv_ros_pipeline, X_train, y_train_encoded, scoring='accuracy',cv=kf)\n",
    "print('cross_val_score: ',CV_score_rf.mean().round(4))\n",
    "print('cross_val_standard_deviation: ',CV_score_rf.std().round(4))"
   ]
  },
  {
   "cell_type": "code",
   "execution_count": 170,
   "metadata": {},
   "outputs": [
    {
     "data": {
      "image/png": "[encoded data removed]",
      "text/plain": [
       "<Figure size 504x288 with 1 Axes>"
      ]
     },
     "metadata": {
      "needs_background": "light"
     },
     "output_type": "display_data"
    }
   ],
   "source": [
    "#important Features\n",
    "cols=X_en1.columns\n",
    "X_train_ros_df = pd.DataFrame(data=X_train_ros,columns=cols)\n",
    "X_test_df= pd.DataFrame(data=X_test,columns=cols)\n",
    "tmp=pd.DataFrame({'Feature':X_train_ros_df.columns,'Feature importance':rf.feature_importances_})\n",
    "tmp=tmp.sort_values(by='Feature importance',ascending= False)\n",
    "plt.figure(figsize=(7,4))\n",
    "plt.title('Features importance', fontsize=14)\n",
    "s=sns.barplot(x='Feature',y='Feature importance',data=tmp)\n",
    "s.set_xticklabels(s.get_xticklabels(),rotation=90)\n",
    "plt.show()"
   ]
  },
  {
   "cell_type": "code",
   "execution_count": null,
   "metadata": {},
   "outputs": [],
   "source": []
  },
  {
   "cell_type": "code",
   "execution_count": 190,
   "metadata": {},
   "outputs": [
    {
     "name": "stdout",
     "output_type": "stream",
     "text": [
      "             Model  Accuracy  Precision    Recall  F1 Score      ROC\n",
      "0  Neural Networks  0.760333   0.457534  0.602577  0.520133  0.70313\n"
     ]
    }
   ],
   "source": [
    "#********************************************************************************************************\n",
    "#                                 NEURAL NETWORKS : OVERSAMPLED\n",
    "#********************************************************************************************************\n",
    "from sklearn.neural_network import MLPClassifier\n",
    "#ann = MLPClassifier(hidden_layer_sizes=(100,100,100), max_iter=100, alpha=0.0001, solver='sgd', verbose=10, random_state=21, tol=0.000000001)\n",
    "ann= MLPClassifier(hidden_layer_sizes=(5,10,2),max_iter=100,activation = 'relu',solver='sgd',random_state=1)\n",
    "ann.fit(X_train_ros, y_train_ros)\n",
    "y_pred = ann.predict(X_test)\n",
    "roc=roc_auc_score(y_test, y_pred)\n",
    "acc = accuracy_score(y_test, y_pred)\n",
    "prec = precision_score(y_test, y_pred)\n",
    "rec = recall_score(y_test, y_pred)\n",
    "f1 = f1_score(y_test, y_pred)\n",
    "\n",
    "annscore_o = pd.DataFrame([['Neural Networks', acc,prec,rec\n",
    ", f1,roc]], \n",
    "                        columns = ['Model', 'Accuracy', 'Precision', 'Recall', 'F1 Score','ROC'])\n",
    "\n",
    "print(annscore_o)"
   ]
  },
  {
   "cell_type": "code",
   "execution_count": 191,
   "metadata": {},
   "outputs": [
    {
     "name": "stdout",
     "output_type": "stream",
     "text": [
      "cross_val_score:  0.7569\n",
      "cross_val_standard_deviation:  0.012\n"
     ]
    }
   ],
   "source": [
    "# Cross Validation - Neural Networks\n",
    "kf= KFold(n_splits=5, random_state=0,shuffle=False)\n",
    "ann= MLPClassifier(hidden_layer_sizes=(5,10,2),max_iter=100,activation = 'relu',solver='sgd',random_state=1)\n",
    "cv_ros_pipeline= make_pipeline(RandomOverSampler(random_state=42), ann)\n",
    "CV_score_nn=cross_val_score(cv_ros_pipeline, X_train, y_train_encoded, scoring='accuracy',cv=kf)\n",
    "print('cross_val_score: ',CV_score_nn.mean().round(4))\n",
    "print('cross_val_standard_deviation: ',CV_score_nn.std().round(4))"
   ]
  },
  {
   "cell_type": "code",
   "execution_count": null,
   "metadata": {},
   "outputs": [],
   "source": []
  },
  {
   "cell_type": "markdown",
   "metadata": {},
   "source": [
    "Over-Sampling : SMOTE\n",
    "---------"
   ]
  },
  {
   "cell_type": "code",
   "execution_count": 192,
   "metadata": {},
   "outputs": [
    {
     "name": "stdout",
     "output_type": "stream",
     "text": [
      "Original dataset shape Counter({0: 16304, 1: 4696})\n",
      "SMOTE over-sampling:\n",
      "Resampled dataset shape Counter({0: 16304, 1: 16304})\n"
     ]
    }
   ],
   "source": [
    "#Smote Oversampling\n",
    "print('Original dataset shape %s' % Counter(y_train_encoded))\n",
    "print('SMOTE over-sampling:')\n",
    "smote= SMOTE(random_state=42)\n",
    "X_train_sm, y_train_sm= smote.fit_sample(X_train, y_train_encoded)\n",
    "print('Resampled dataset shape %s' % Counter(y_train_sm))\n"
   ]
  },
  {
   "cell_type": "code",
   "execution_count": 193,
   "metadata": {},
   "outputs": [
    {
     "data": {
      "text/plain": [
       "(32608,)"
      ]
     },
     "execution_count": 193,
     "metadata": {},
     "output_type": "execute_result"
    }
   ],
   "source": [
    "y_train_sm.shape"
   ]
  },
  {
   "cell_type": "code",
   "execution_count": 194,
   "metadata": {},
   "outputs": [
    {
     "name": "stdout",
     "output_type": "stream",
     "text": [
      "                 Model  Accuracy  Precision    Recall  F1 Score       ROC\n",
      "0  Logistic Regression  0.782222   0.495512  0.569072   0.52975  0.704933\n"
     ]
    }
   ],
   "source": [
    "#*************************************************************************************************************\n",
    "#                                      LOGISTIC REGRESSION : SMOTE\n",
    "#*************************************************************************************************************\n",
    "lr = LogisticRegression(random_state=1)\n",
    "lr.fit(X_train_sm, y_train_sm)\n",
    "y_pred = lr.predict(X_test)\n",
    "roc=roc_auc_score(y_test, y_pred)\n",
    "acc = accuracy_score(y_test, y_pred)\n",
    "prec = precision_score(y_test, y_pred)\n",
    "rec = recall_score(y_test, y_pred)\n",
    "f1 = f1_score(y_test, y_pred)\n",
    "\n",
    "lrscore_sm = pd.DataFrame([['Logistic Regression', acc,prec,rec, f1,roc]],\n",
    "               columns = ['Model', 'Accuracy', 'Precision', 'Recall', 'F1 Score','ROC'])\n",
    "print(lrscore_sm)"
   ]
  },
  {
   "cell_type": "code",
   "execution_count": 195,
   "metadata": {},
   "outputs": [
    {
     "name": "stdout",
     "output_type": "stream",
     "text": [
      "cross_val_score:  0.7738\n",
      "cross_val_standard_deviation:  0.0083\n"
     ]
    }
   ],
   "source": [
    "#Cross Validation - Logistic Regression\n",
    "kf= KFold(n_splits=5, random_state=0,shuffle=False)\n",
    "cv_sm_pipeline= make_pipeline(SMOTE(random_state=42), LogisticRegression(random_state=1))\n",
    "CV_score_LR=cross_val_score(cv_sm_pipeline, X_train, y_train_encoded, scoring='accuracy',cv=kf)\n",
    "print('cross_val_score: ',CV_score_LR.mean().round(4))\n",
    "print('cross_val_standard_deviation: ',CV_score_LR.std().round(4))"
   ]
  },
  {
   "cell_type": "code",
   "execution_count": 196,
   "metadata": {},
   "outputs": [
    {
     "name": "stdout",
     "output_type": "stream",
     "text": [
      "  Model  Accuracy  Precision    Recall  F1 Score      ROC\n",
      "0   SVM  0.778667   0.488646  0.576804  0.529078  0.70547\n"
     ]
    }
   ],
   "source": [
    "#*************************************************************************************************************\n",
    "#                                             SVM : SMOTE\n",
    "#*************************************************************************************************************\n",
    "svm = SVC(gamma='auto')\n",
    "svm.fit(X_train_sm, y_train_sm)\n",
    "\n",
    "y_pred = svm.predict(X_test)\n",
    "roc=roc_auc_score(y_test, y_pred)\n",
    "acc = accuracy_score(y_test, y_pred)\n",
    "prec = precision_score(y_test, y_pred)\n",
    "rec = recall_score(y_test, y_pred)\n",
    "f1 = f1_score(y_test, y_pred)\n",
    "\n",
    "svmscore_sm = pd.DataFrame([['SVM', acc,prec,rec, f1,roc]],\n",
    "               columns = ['Model', 'Accuracy', 'Precision', 'Recall', 'F1 Score','ROC'])\n",
    "print(svmscore_sm)"
   ]
  },
  {
   "cell_type": "code",
   "execution_count": 197,
   "metadata": {},
   "outputs": [
    {
     "name": "stdout",
     "output_type": "stream",
     "text": [
      "cross_val_score:  0.7668\n",
      "cross_val_standard_deviation:  0.0046\n"
     ]
    }
   ],
   "source": [
    "#Cross Validation - SVM\n",
    "cv_sm_pipeline= make_pipeline(SMOTE(random_state=42), SVC(gamma='auto'))\n",
    "CV_score_svm=cross_val_score(cv_sm_pipeline, X_train, y_train_encoded, scoring='accuracy',cv=kf)\n",
    "print('cross_val_score: ',CV_score_svm.mean().round(4))\n",
    "print('cross_val_standard_deviation: ',CV_score_svm.std().round(4))"
   ]
  },
  {
   "cell_type": "code",
   "execution_count": 198,
   "metadata": {},
   "outputs": [
    {
     "name": "stdout",
     "output_type": "stream",
     "text": [
      "           Model  Accuracy  Precision    Recall  F1 Score       ROC\n",
      "0  Random Forest  0.791889   0.519579  0.458247   0.48699  0.670908\n"
     ]
    }
   ],
   "source": [
    "#*************************************************************************************************************\n",
    "#                                            RANDOM FOREST : SMOTE\n",
    "#*************************************************************************************************************\n",
    "rf = RandomForestClassifier(n_estimators=40)\n",
    "rf.fit(X_train_sm, y_train_sm)\n",
    "y_pred = rf.predict(X_test)\n",
    "roc=roc_auc_score(y_test, y_pred)\n",
    "acc = accuracy_score(y_test, y_pred)\n",
    "prec = precision_score(y_test, y_pred)\n",
    "rec = recall_score(y_test, y_pred)\n",
    "f1 = f1_score(y_test, y_pred)\n",
    "\n",
    "rfscore_sm = pd.DataFrame([['Random Forest', acc,prec,rec, f1,roc]],\n",
    "               columns = ['Model', 'Accuracy', 'Precision', 'Recall', 'F1 Score','ROC'])\n",
    "print(rfscore_sm)"
   ]
  },
  {
   "cell_type": "code",
   "execution_count": 199,
   "metadata": {
    "scrolled": true
   },
   "outputs": [
    {
     "name": "stdout",
     "output_type": "stream",
     "text": [
      "cross_val_score:  0.7908\n",
      "cross_val_standard_deviation:  0.0029\n"
     ]
    }
   ],
   "source": [
    "# Cross Validation - Random Forest\n",
    "kf= KFold(n_splits=5, random_state=0,shuffle=False)\n",
    "cv_sm_pipeline= make_pipeline(SMOTE(random_state=42), RandomForestClassifier(n_estimators=40))\n",
    "CV_score_rf=cross_val_score(cv_sm_pipeline, X_train, y_train_encoded, scoring='accuracy',cv=kf)\n",
    "print('cross_val_score: ',CV_score_rf.mean().round(4))\n",
    "print('cross_val_standard_deviation: ',CV_score_rf.std().round(4))"
   ]
  },
  {
   "cell_type": "code",
   "execution_count": 205,
   "metadata": {},
   "outputs": [
    {
     "data": {
      "image/png": "[encoded data removed]",
      "text/plain": [
       "<Figure size 504x288 with 1 Axes>"
      ]
     },
     "metadata": {
      "needs_background": "light"
     },
     "output_type": "display_data"
    }
   ],
   "source": [
    "#important Features\n",
    "cols=X_en1.columns\n",
    "X_train_sm_df = pd.DataFrame(data=X_train_sm,columns=cols)\n",
    "X_test_df= pd.DataFrame(data=X_test,columns=cols)\n",
    "tmp=pd.DataFrame({'Feature':X_train_sm_df.columns,'Feature importance':rf.feature_importances_})\n",
    "tmp=tmp.sort_values(by='Feature importance',ascending= False)\n",
    "plt.figure(figsize=(7,4))\n",
    "plt.title('Features importance', fontsize=14)\n",
    "s=sns.barplot(x='Feature',y='Feature importance',data=tmp)\n",
    "s.set_xticklabels(s.get_xticklabels(),rotation=90)\n",
    "plt.show()"
   ]
  },
  {
   "cell_type": "code",
   "execution_count": 218,
   "metadata": {},
   "outputs": [
    {
     "data": {
      "text/plain": [
       "Index(['LIMIT_BAL', 'AGE', 'PAY_1', 'PAY_2', 'PAY_3', 'PAY_4', 'PAY_5',\n",
       "       'PAY_6', 'BILL_AMT1', 'BILL_AMT2', 'BILL_AMT3', 'BILL_AMT4',\n",
       "       'BILL_AMT5', 'BILL_AMT6', 'PAY_AMT1', 'PAY_AMT2', 'PAY_AMT3',\n",
       "       'PAY_AMT4', 'PAY_AMT5', 'PAY_AMT6', 'GRAD_SCHOOL', 'UNIVERSITY',\n",
       "       'HIGH_SCHOOL', 'MALE', 'MARRIED', 'SINGLE'],\n",
       "      dtype='object')"
      ]
     },
     "execution_count": 218,
     "metadata": {},
     "output_type": "execute_result"
    }
   ],
   "source": [
    "X_en1.columns"
   ]
  },
  {
   "cell_type": "code",
   "execution_count": 223,
   "metadata": {},
   "outputs": [],
   "source": [
    "X_train_sm_fi=X_train_sm_df[['LIMIT_BAL', 'AGE', 'PAY_1', 'PAY_2', \n",
    "        'BILL_AMT1', 'BILL_AMT2', \n",
    "      'PAY_AMT1', 'PAY_AMT2' ]]\n",
    "X_test_fi=X_test_df[['LIMIT_BAL', 'AGE', 'PAY_1', 'PAY_2', \n",
    "        'BILL_AMT1', 'BILL_AMT2', \n",
    "        'PAY_AMT1', 'PAY_AMT2' ]]"
   ]
  },
  {
   "cell_type": "code",
   "execution_count": 224,
   "metadata": {},
   "outputs": [
    {
     "name": "stdout",
     "output_type": "stream",
     "text": [
      "           Model  Accuracy  Precision    Recall  F1 Score       ROC\n",
      "0  Random Forest  0.779111   0.487355  0.476804  0.482022  0.669493\n"
     ]
    }
   ],
   "source": [
    "rf_fi = RandomForestClassifier(n_estimators=40)\n",
    "rf_fi.fit(X_train_sm_fi, y_train_sm)\n",
    "y_pred_fi = rf_fi.predict(X_test_fi)\n",
    "roc=roc_auc_score(y_test, y_pred_fi)\n",
    "acc = accuracy_score(y_test, y_pred_fi)\n",
    "prec = precision_score(y_test, y_pred_fi)\n",
    "rec = recall_score(y_test, y_pred_fi)\n",
    "f1 = f1_score(y_test, y_pred_fi)\n",
    "\n",
    "rfscore_o_fi = pd.DataFrame([['Random Forest', acc,prec,rec, f1,roc]],\n",
    "               columns = ['Model', 'Accuracy', 'Precision', 'Recall', 'F1 Score','ROC'])\n",
    "print(rfscore_o_fi)"
   ]
  },
  {
   "cell_type": "code",
   "execution_count": 200,
   "metadata": {},
   "outputs": [
    {
     "name": "stdout",
     "output_type": "stream",
     "text": [
      "             Model  Accuracy  Precision    Recall  F1 Score       ROC\n",
      "0  Neural Networks  0.751667   0.444444  0.608247  0.513602  0.699662\n"
     ]
    }
   ],
   "source": [
    "#********************************************************************************************************\n",
    "#                                  NEURAL NETWORKS : SMOTE\n",
    "#********************************************************************************************************\n",
    "from sklearn.neural_network import MLPClassifier\n",
    "#ann = MLPClassifier(hidden_layer_sizes=(100,100,100), max_iter=100, alpha=0.0001, solver='sgd', verbose=10, random_state=21, tol=0.000000001)\n",
    "ann= MLPClassifier(hidden_layer_sizes=(5,10,2),max_iter=100,activation = 'relu',solver='sgd',random_state=1)\n",
    "ann.fit(X_train_sm, y_train_sm)\n",
    "y_pred = ann.predict(X_test)\n",
    "roc=roc_auc_score(y_test, y_pred)\n",
    "acc = accuracy_score(y_test, y_pred)\n",
    "prec = precision_score(y_test, y_pred)\n",
    "rec = recall_score(y_test, y_pred)\n",
    "f1 = f1_score(y_test, y_pred)\n",
    "\n",
    "annscore_sm = pd.DataFrame([['Neural Networks', acc,prec,rec, f1,roc]], \n",
    "                        columns = ['Model', 'Accuracy', 'Precision', 'Recall', 'F1 Score','ROC'])\n",
    "\n",
    "print(annscore_sm)"
   ]
  },
  {
   "cell_type": "code",
   "execution_count": 201,
   "metadata": {},
   "outputs": [
    {
     "name": "stdout",
     "output_type": "stream",
     "text": [
      "cross_val_score:  0.7518\n",
      "cross_val_standard_deviation:  0.0095\n"
     ]
    }
   ],
   "source": [
    "# Cross Validation - Neural Networks\n",
    "ann= MLPClassifier(hidden_layer_sizes=(5,10,2),max_iter=100,activation = 'relu',solver='sgd',random_state=1)\n",
    "cv_sm_pipeline= make_pipeline(SMOTE(random_state=42), ann)\n",
    "CV_score_nn=cross_val_score(cv_sm_pipeline, X_train, y_train_encoded, scoring='accuracy',cv=kf)\n",
    "print('cross_val_score: ',CV_score_nn.mean().round(4))\n",
    "print('cross_val_standard_deviation: ',CV_score_nn.std().round(4))"
   ]
  },
  {
   "cell_type": "code",
   "execution_count": null,
   "metadata": {},
   "outputs": [],
   "source": []
  },
  {
   "cell_type": "markdown",
   "metadata": {},
   "source": [
    "Model Optimization using Grid Search and K-Fold Cross validation\n",
    "------------------------------------------"
   ]
  },
  {
   "cell_type": "code",
   "execution_count": 225,
   "metadata": {},
   "outputs": [],
   "source": [
    "kf= KFold(n_splits=5, random_state=0,shuffle=False)"
   ]
  },
  {
   "cell_type": "code",
   "execution_count": 228,
   "metadata": {},
   "outputs": [
    {
     "name": "stdout",
     "output_type": "stream",
     "text": [
      "Accuracy on Cross Validation set : 0.8152857142857142\n",
      "{'C': 10, 'class_weight': None, 'penalty': 'l1'}\n",
      "                                    Model  Accuracy  Precision    Recall  \\\n",
      "0  Logistic Regression Tuned - Imbalanced  0.818778   0.678201  0.303093   \n",
      "\n",
      "   F1 Score       ROC  \n",
      "0  0.418953  0.631787  \n"
     ]
    }
   ],
   "source": [
    "#*************************************************************************************************************\n",
    "#                         LOGISTIC REGRESSION - GridSearchCV : Imbalanced\n",
    "#*************************************************************************************************************\n",
    "\n",
    "logr= LogisticRegression(solver='liblinear')\n",
    "logr_params = {'C': [10, 20, 30, 40, 50, 60], 'class_weight': [None, 'balanced'],'penalty': ['l1', 'l2']}\n",
    "\n",
    "#Run 10-fold grid search\n",
    "grid_obj = GridSearchCV(estimator=logr,param_grid=logr_params,scoring='accuracy',cv=5,n_jobs=-1)\n",
    "grid_obj = grid_obj.fit(X_train,np.ravel(y_train_encoded))\n",
    "best_accuracy = grid_obj.best_score_\n",
    "print('Accuracy on Cross Validation set :',best_accuracy)\n",
    "\n",
    "#Set the algo to the best combination of parameters\n",
    "best_parameters = grid_obj.best_params_\n",
    "print(best_parameters)\n",
    "\n",
    "y_pred_log = grid_obj.predict(X_test)\n",
    "\n",
    "\n",
    "roc=roc_auc_score(y_test, y_pred_log)\n",
    "acc = accuracy_score(y_test, y_pred_log)\n",
    "prec = precision_score(y_test, y_pred_log)\n",
    "rec = recall_score(y_test, y_pred_log)\n",
    "f1 = f1_score(y_test, y_pred_log)\n",
    "\n",
    "\n",
    "gcv_results =  pd.DataFrame([['Logistic Regression Tuned - Imbalanced', acc,prec,rec, f1,roc]],\n",
    "               columns = ['Model', 'Accuracy', 'Precision', 'Recall', 'F1 Score','ROC'])\n",
    "print(gcv_results)"
   ]
  },
  {
   "cell_type": "code",
   "execution_count": 229,
   "metadata": {},
   "outputs": [
    {
     "name": "stdout",
     "output_type": "stream",
     "text": [
      "Accuracy on Cross Validation set : 0.7744285714285715\n",
      "{'logisticregression__C': 10, 'logisticregression__penalty': 'l1'}\n",
      "                                      Model  Accuracy  Precision    Recall  \\\n",
      "0  Logistic Regression Tuned - UnderSampled  0.785556   0.502317  0.558763   \n",
      "\n",
      "   F1 Score       ROC  \n",
      "0  0.529039  0.703319  \n"
     ]
    }
   ],
   "source": [
    "\n",
    "#*************************************************************************************************************\n",
    "#                       LOGISTIC REGRESSION - GridSearchCV : UnderSampled\n",
    "#*************************************************************************************************************\n",
    "\n",
    "\n",
    "clf = LogisticRegression(solver='liblinear')\n",
    "params = {'C': [10, 20, 30, 40, 50, 60],'penalty': ['l1', 'l2']}\n",
    "\n",
    "pipe=make_pipeline(RandomUnderSampler(random_state=42), clf)\n",
    "\n",
    "params2={'logisticregression__'+key:params[key] for key in params}\n",
    "grid =GridSearchCV(pipe,param_grid=params2, cv=5, scoring='accuracy', return_train_score=True)\n",
    "grid = grid.fit(X_train,y_train_encoded)\n",
    "\n",
    "best_accuracy_rf = grid.best_score_\n",
    "print('Accuracy on Cross Validation set :',best_accuracy_rf)\n",
    "\n",
    "best_params = grid.best_params_\n",
    "print(best_params)\n",
    "\n",
    "y_pred = grid.predict(X_test)\n",
    "\n",
    "roc=roc_auc_score(y_test, y_pred)\n",
    "acc = accuracy_score(y_test, y_pred)\n",
    "prec = precision_score(y_test, y_pred)\n",
    "rec = recall_score(y_test, y_pred)\n",
    "f1 = f1_score(y_test, y_pred)\n",
    "\n",
    "\n",
    "gcv_results =  pd.DataFrame([['Logistic Regression Tuned - UnderSampled', acc,prec,rec, f1,roc]],\n",
    "               columns = ['Model', 'Accuracy', 'Precision', 'Recall', 'F1 Score','ROC'])\n",
    "print(gcv_results)"
   ]
  },
  {
   "cell_type": "code",
   "execution_count": 230,
   "metadata": {},
   "outputs": [
    {
     "name": "stdout",
     "output_type": "stream",
     "text": [
      "Accuracy on Cross Validation set : 0.7737142857142858\n",
      "{'logisticregression__C': 10, 'logisticregression__penalty': 'l1'}\n",
      "                                     Model  Accuracy  Precision    Recall  \\\n",
      "0  Logistic Regression Tuned - OverSampled  0.781889   0.494831  0.567526   \n",
      "\n",
      "   F1 Score       ROC  \n",
      "0  0.528691  0.704159  \n"
     ]
    }
   ],
   "source": [
    "\n",
    "#*************************************************************************************************************\n",
    "#                       LOGISTIC REGRESSION - GridSearchCV : OverSampled\n",
    "#*************************************************************************************************************\n",
    "\n",
    "\n",
    "clf = LogisticRegression(solver='liblinear')\n",
    "params = {'C': [10, 20, 30, 40, 50, 60],'penalty': ['l1', 'l2']}\n",
    "\n",
    "pipe=make_pipeline(RandomOverSampler(random_state=42), clf)\n",
    "\n",
    "params2={'logisticregression__'+key:params[key] for key in params}\n",
    "grid =GridSearchCV(pipe,param_grid=params2, cv=5, scoring='accuracy', return_train_score=True)\n",
    "grid = grid.fit(X_train,y_train_encoded)\n",
    "\n",
    "best_accuracy_rf = grid.best_score_\n",
    "print('Accuracy on Cross Validation set :',best_accuracy_rf)\n",
    "\n",
    "best_params = grid.best_params_\n",
    "print(best_params)\n",
    "\n",
    "y_pred = grid.predict(X_test)\n",
    "\n",
    "roc=roc_auc_score(y_test, y_pred)\n",
    "acc = accuracy_score(y_test, y_pred)\n",
    "prec = precision_score(y_test, y_pred)\n",
    "rec = recall_score(y_test, y_pred)\n",
    "f1 = f1_score(y_test, y_pred)\n",
    "\n",
    "\n",
    "gcv_results =  pd.DataFrame([['Logistic Regression Tuned - OverSampled', acc,prec,rec, f1,roc]],\n",
    "               columns = ['Model', 'Accuracy', 'Precision', 'Recall', 'F1 Score','ROC'])\n",
    "print(gcv_results)"
   ]
  },
  {
   "cell_type": "code",
   "execution_count": 231,
   "metadata": {},
   "outputs": [
    {
     "name": "stdout",
     "output_type": "stream",
     "text": [
      "Accuracy on Cross Validation set : 0.7740952380952381\n",
      "{'logisticregression__C': 10, 'logisticregression__penalty': 'l2'}\n",
      "                               Model  Accuracy  Precision    Recall  F1 Score  \\\n",
      "0  Logistic Regression Tuned - SMOTE  0.782222   0.495512  0.569072   0.52975   \n",
      "\n",
      "        ROC  \n",
      "0  0.704933  \n"
     ]
    }
   ],
   "source": [
    "\n",
    "#*************************************************************************************************************\n",
    "#                       LOGISTIC REGRESSION - GridSearchCV : SMOTE\n",
    "#*************************************************************************************************************\n",
    "\n",
    "\n",
    "clf = LogisticRegression(solver='liblinear')\n",
    "params = {'C': [10, 20, 30, 40, 50, 60],'penalty': ['l1', 'l2']}\n",
    "\n",
    "pipe=make_pipeline(SMOTE(random_state=42), clf)\n",
    "\n",
    "params2={'logisticregression__'+key:params[key] for key in params}\n",
    "grid =GridSearchCV(pipe,param_grid=params2, cv=5, scoring='accuracy', return_train_score=True)\n",
    "grid = grid.fit(X_train,y_train_encoded)\n",
    "\n",
    "best_accuracy_rf = grid.best_score_\n",
    "print('Accuracy on Cross Validation set :',best_accuracy_rf)\n",
    "\n",
    "best_params = grid.best_params_\n",
    "print(best_params)\n",
    "\n",
    "y_pred = grid.predict(X_test)\n",
    "\n",
    "roc=roc_auc_score(y_test, y_pred)\n",
    "acc = accuracy_score(y_test, y_pred)\n",
    "prec = precision_score(y_test, y_pred)\n",
    "rec = recall_score(y_test, y_pred)\n",
    "f1 = f1_score(y_test, y_pred)\n",
    "\n",
    "\n",
    "gcv_results =  pd.DataFrame([['Logistic Regression Tuned - SMOTE', acc,prec,rec, f1,roc]],\n",
    "               columns = ['Model', 'Accuracy', 'Precision', 'Recall', 'F1 Score','ROC'])\n",
    "print(gcv_results)"
   ]
  },
  {
   "cell_type": "code",
   "execution_count": 232,
   "metadata": {},
   "outputs": [
    {
     "name": "stdout",
     "output_type": "stream",
     "text": [
      "Accuracy on Cross Validation set : 0.8152857142857144\n",
      "{'class_weight': None, 'criterion': 'entropy', 'n_estimators': 80}\n",
      "                 Model  Accuracy  Precision    Recall  F1 Score       ROC\n",
      "0  Random Forest Tuned     0.818   0.638026  0.359794  0.460119  0.651852\n"
     ]
    }
   ],
   "source": [
    "#****************************************************************************************************************\n",
    "#                                   RANDOM FOREST - GridSearchCV :Imabalanced\n",
    "#****************************************************************************************************************\n",
    "\n",
    "rf = RandomForestClassifier()\n",
    "rf_params = {'n_estimators': [40,50,60,70,80], \n",
    "              'criterion': ['entropy', 'gini'],\n",
    "              'class_weight' : ['balanced',None]}\n",
    "\n",
    "grid_rf = GridSearchCV(estimator=rf,param_grid=rf_params,scoring='accuracy',cv=5,n_jobs=-1)\n",
    "grid_rf = grid_rf.fit(X_train,y_train_encoded)\n",
    "\n",
    "best_accuracy_rf = grid_rf.best_score_\n",
    "print('Accuracy on Cross Validation set :',best_accuracy_rf)\n",
    "\n",
    "best_params = grid_rf.best_params_\n",
    "print(best_params)\n",
    "\n",
    "y_pred_rf = grid_rf.predict(X_test)\n",
    "\n",
    "roc=roc_auc_score(y_test, y_pred_rf)\n",
    "acc = accuracy_score(y_test, y_pred_rf)\n",
    "prec = precision_score(y_test, y_pred_rf)\n",
    "rec = recall_score(y_test, y_pred_rf)\n",
    "f1 = f1_score(y_test, y_pred_rf)\n",
    "gcv_results=  pd.DataFrame([['Random Forest Tuned', acc,prec,rec, f1,roc]],\n",
    "               columns = ['Model', 'Accuracy', 'Precision', 'Recall', 'F1 Score','ROC'])\n",
    "print(gcv_results)"
   ]
  },
  {
   "cell_type": "code",
   "execution_count": 233,
   "metadata": {},
   "outputs": [
    {
     "name": "stdout",
     "output_type": "stream",
     "text": [
      "Accuracy on Cross Validation set : 0.7435238095238095\n",
      "{'randomforestclassifier__class_weight': None, 'randomforestclassifier__criterion': 'entropy', 'randomforestclassifier__n_estimators': 70}\n",
      "                                Model  Accuracy  Precision    Recall  \\\n",
      "0  Random Forest Tuned : UnderSampled  0.743111   0.433381  0.623711   \n",
      "\n",
      "   F1 Score       ROC  \n",
      "0  0.511412  0.699816  \n"
     ]
    }
   ],
   "source": [
    "#****************************************************************************************************************\n",
    "#                                   RANDOM FOREST - GridSearchCV :UnderSampled\n",
    "#****************************************************************************************************************\n",
    "\n",
    "rf = RandomForestClassifier()\n",
    "rf_params = {'n_estimators': [40,50,60,70,80], \n",
    "              'criterion': ['entropy', 'gini'],\n",
    "              'class_weight' : ['balanced',None]}\n",
    "\n",
    "rfo_pipe=make_pipeline(RandomUnderSampler(random_state=42), RandomForestClassifier())\n",
    "\n",
    "rf_params2={'randomforestclassifier__'+key:rf_params[key] for key in rf_params}\n",
    "grid_rf =GridSearchCV(rfo_pipe,param_grid=rf_params2, cv=5, scoring='accuracy', return_train_score=True)\n",
    "grid_rf = grid_rf.fit(X_train,y_train_encoded)\n",
    "\n",
    "best_accuracy_rf = grid_rf.best_score_\n",
    "print('Accuracy on Cross Validation set :',best_accuracy_rf)\n",
    "\n",
    "\n",
    "best_params = grid_rf.best_params_\n",
    "print(best_params)\n",
    "\n",
    "y_pred_rf = grid_rf.predict(X_test)\n",
    "\n",
    "roc=roc_auc_score(y_test, y_pred_rf)\n",
    "acc = accuracy_score(y_test, y_pred_rf)\n",
    "prec = precision_score(y_test, y_pred_rf)\n",
    "rec = recall_score(y_test, y_pred_rf)\n",
    "f1 = f1_score(y_test, y_pred_rf)\n",
    "gcv_results=  pd.DataFrame([['Random Forest Tuned : UnderSampled', acc,prec,rec, f1,roc]],\n",
    "               columns = ['Model', 'Accuracy', 'Precision', 'Recall', 'F1 Score','ROC'])\n",
    "print(gcv_results)\n"
   ]
  },
  {
   "cell_type": "code",
   "execution_count": 234,
   "metadata": {},
   "outputs": [
    {
     "name": "stdout",
     "output_type": "stream",
     "text": [
      "Accuracy on Cross Validation set : 0.8093333333333333\n",
      "{'randomforestclassifier__class_weight': 'balanced', 'randomforestclassifier__criterion': 'entropy', 'randomforestclassifier__n_estimators': 80}\n",
      "                               Model  Accuracy  Precision    Recall  F1 Score  \\\n",
      "0  Random Forest Tuned : OverSampled  0.809556   0.578691  0.428351  0.492299   \n",
      "\n",
      "        ROC  \n",
      "0  0.671328  \n"
     ]
    }
   ],
   "source": [
    "#****************************************************************************************************************\n",
    "#                                   RANDOM FOREST - GridSearchCV :OverSampled\n",
    "#****************************************************************************************************************\n",
    "\n",
    "\n",
    "rf = RandomForestClassifier()\n",
    "rf_params = {'n_estimators': [40,50,60,70,80], \n",
    "              'criterion': ['entropy', 'gini'],\n",
    "              'class_weight' : ['balanced',None]}\n",
    "\n",
    "rfo_pipe=make_pipeline(RandomOverSampler(random_state=42), RandomForestClassifier())\n",
    "\n",
    "rf_params2={'randomforestclassifier__'+key:rf_params[key] for key in rf_params}\n",
    "grid_rf =GridSearchCV(rfo_pipe,param_grid=rf_params2, cv=kf, scoring='accuracy', return_train_score=True)\n",
    "grid_rf = grid_rf.fit(X_train,y_train_encoded)\n",
    "\n",
    "best_accuracy_rf = grid_rf.best_score_\n",
    "print('Accuracy on Cross Validation set :',best_accuracy_rf)\n",
    "\n",
    "best_params = grid_rf.best_params_\n",
    "print(best_params)\n",
    "\n",
    "y_pred_rf = grid_rf.predict(X_test)\n",
    "\n",
    "roc=roc_auc_score(y_test, y_pred_rf)\n",
    "acc = accuracy_score(y_test, y_pred_rf)\n",
    "prec = precision_score(y_test, y_pred_rf)\n",
    "rec = recall_score(y_test, y_pred_rf)\n",
    "f1 = f1_score(y_test, y_pred_rf)\n",
    "gcv_results=  pd.DataFrame([['Random Forest Tuned : OverSampled', acc,prec,rec, f1,roc]],\n",
    "               columns = ['Model', 'Accuracy', 'Precision', 'Recall', 'F1 Score','ROC'])\n",
    "print(gcv_results)"
   ]
  },
  {
   "cell_type": "code",
   "execution_count": 235,
   "metadata": {
    "scrolled": true
   },
   "outputs": [
    {
     "name": "stdout",
     "output_type": "stream",
     "text": [
      "Accuracy on Cross Validation set : 0.7913809523809524\n",
      "{'randomforestclassifier__class_weight': 'balanced', 'randomforestclassifier__criterion': 'entropy', 'randomforestclassifier__n_estimators': 70}\n",
      "                               Model  Accuracy  Precision    Recall  F1 Score  \\\n",
      "0  Random Forest Tuned : OverSampled  0.809556   0.578691  0.428351  0.492299   \n",
      "1        Random Forest Tuned : SMOTE  0.794556   0.526164  0.471649  0.497418   \n",
      "\n",
      "        ROC  \n",
      "0  0.671328  \n",
      "1  0.677468  \n"
     ]
    }
   ],
   "source": [
    "#****************************************************************************************************************\n",
    "#                                   RANDOM FOREST - GridSearchCV :SMOTE\n",
    "#****************************************************************************************************************\n",
    "rf = RandomForestClassifier()\n",
    "rf_params = {'n_estimators': [40,50,60,70,80], \n",
    "              'criterion': ['entropy', 'gini'],\n",
    "              'class_weight' : ['balanced',None]}\n",
    "\n",
    "rfsm_pipe=make_pipeline(SMOTE(random_state=42), RandomForestClassifier())\n",
    "\n",
    "rf_params2={'randomforestclassifier__'+key:rf_params[key] for key in rf_params}\n",
    "grid_rf =GridSearchCV(rfsm_pipe,param_grid=rf_params2, cv=kf, scoring='accuracy', return_train_score=True)\n",
    "grid_rf = grid_rf.fit(X_train,y_train_encoded)\n",
    "\n",
    "best_accuracy_rf = grid_rf.best_score_\n",
    "print('Accuracy on Cross Validation set :',best_accuracy_rf)\n",
    "\n",
    "best_params = grid_rf.best_params_\n",
    "print(best_params)\n",
    "\n",
    "y_pred_rf = grid_rf.predict(X_test)\n",
    "\n",
    "roc=roc_auc_score(y_test, y_pred_rf)\n",
    "acc = accuracy_score(y_test, y_pred_rf)\n",
    "prec = precision_score(y_test, y_pred_rf)\n",
    "rec = recall_score(y_test, y_pred_rf)\n",
    "f1 = f1_score(y_test, y_pred_rf)\n",
    "model=  pd.DataFrame([['Random Forest Tuned : SMOTE', acc,prec,rec, f1,roc]],\n",
    "               columns = ['Model', 'Accuracy', 'Precision', 'Recall', 'F1 Score','ROC'])\n",
    "gcv_results = gcv_results.append(model, ignore_index = True)\n",
    "print(gcv_results)"
   ]
  },
  {
   "cell_type": "code",
   "execution_count": 237,
   "metadata": {},
   "outputs": [
    {
     "name": "stdout",
     "output_type": "stream",
     "text": [
      "Accuracy on Cross Validation set : 0.48173694112900406\n",
      "{'alpha': 1, 'hidden_layer_sizes': (10, 2)}\n",
      "                                Model  Accuracy  Precision    Recall  \\\n",
      "0  Neural Networks Tuned : Imbalanced  0.821667   0.654094  0.366495   \n",
      "\n",
      "   F1 Score       ROC  \n",
      "0  0.469772  0.656619  \n"
     ]
    }
   ],
   "source": [
    "#****************************************************************************************************************                                   \n",
    "#                                   NEURAL NETWORKS - GridSearchCV : Imbalanced\n",
    "#****************************************************************************************************************\n",
    "\n",
    "clf= MLPClassifier()\n",
    "params= {'hidden_layer_sizes': [(10,1),(10,2),(10,3)],\n",
    "           'alpha': [.0001,.001,.01,.1,1],\n",
    "            }\n",
    "\n",
    "grid = GridSearchCV(estimator=clf,param_grid=params,scoring='f1',cv=5,n_jobs=-1)\n",
    "grid = grid.fit(X_train,y_train_encoded)\n",
    "\n",
    "best_accuracy = grid.best_score_\n",
    "print('Accuracy on Cross Validation set :',best_accuracy)\n",
    "\n",
    "best_params = grid.best_params_\n",
    "print(best_params)\n",
    "\n",
    "y_pred = grid.predict(X_test)\n",
    "\n",
    "roc=roc_auc_score(y_test, y_pred)\n",
    "acc = accuracy_score(y_test, y_pred)\n",
    "prec = precision_score(y_test, y_pred)\n",
    "rec = recall_score(y_test, y_pred)\n",
    "f1 = f1_score(y_test, y_pred)\n",
    "gcv_results=  pd.DataFrame([['Neural Networks Tuned : Imbalanced', acc,prec,rec, f1,roc]],\n",
    "               columns = ['Model', 'Accuracy', 'Precision', 'Recall', 'F1 Score','ROC'])\n",
    "print(gcv_results)\n"
   ]
  },
  {
   "cell_type": "code",
   "execution_count": 57,
   "metadata": {},
   "outputs": [
    {
     "name": "stdout",
     "output_type": "stream",
     "text": [
      "Accuracy on Cross Validation set : 0.531820050779831\n",
      "{'mlpclassifier__alpha': 1, 'mlpclassifier__hidden_layer_sizes': (10, 3)}\n",
      "                                  Model  Accuracy  Precision    Recall  \\\n",
      "0    Neural Networks Tuned : Imbalanced  0.823889   0.658908  0.379381   \n",
      "1  Neural Networks Tuned : UnderSampled  0.768667   0.471325  0.601546   \n",
      "\n",
      "   F1 Score       ROC  \n",
      "0  0.481518  0.662708  \n",
      "1  0.528533  0.708068  \n"
     ]
    }
   ],
   "source": [
    "#****************************************************************************************************************                                   \n",
    "#                                   NEURAL NETWORKS - GridSearchCV : UnderSampled\n",
    "#****************************************************************************************************************\n",
    "\n",
    "\n",
    "clf= MLPClassifier()\n",
    "params= {'hidden_layer_sizes': [(10,1),(10,2),(10,3)],\n",
    "           'alpha': [.0001,.001,.01,.1,1],\n",
    "            }\n",
    "\n",
    "pipe=make_pipeline(RandomUnderSampler(random_state=42), MLPClassifier())\n",
    "\n",
    "params2={'mlpclassifier__'+key:params[key] for key in params}\n",
    "grid =GridSearchCV(pipe,param_grid=params2, cv=5, scoring='f1', return_train_score=True)\n",
    "grid = grid.fit(X_train,y_train_encoded)\n",
    "\n",
    "best_accuracy_rf = grid.best_score_\n",
    "print('Accuracy on Cross Validation set :',best_accuracy_rf)\n",
    "\n",
    "best_params = grid.best_params_\n",
    "print(best_params)\n",
    "\n",
    "y_pred = grid.predict(X_test)\n",
    "\n",
    "roc=roc_auc_score(y_test, y_pred)\n",
    "acc = accuracy_score(y_test, y_pred)\n",
    "prec = precision_score(y_test, y_pred)\n",
    "rec = recall_score(y_test, y_pred)\n",
    "f1 = f1_score(y_test, y_pred)\n",
    "model=  pd.DataFrame([['Neural Networks Tuned : UnderSampled', acc,prec,rec, f1,roc]],\n",
    "               columns = ['Model', 'Accuracy', 'Precision', 'Recall', 'F1 Score','ROC'])\n",
    "gcv_results = gcv_results.append(model, ignore_index = True)\n",
    "print(gcv_results)\n"
   ]
  },
  {
   "cell_type": "code",
   "execution_count": 58,
   "metadata": {},
   "outputs": [
    {
     "name": "stdout",
     "output_type": "stream",
     "text": [
      "Accuracy on Cross Validation set : 0.7655238095238095\n",
      "{'mlpclassifier__alpha': 1, 'mlpclassifier__hidden_layer_sizes': (10, 3)}\n",
      "                                  Model  Accuracy  Precision    Recall  \\\n",
      "0    Neural Networks Tuned : Imbalanced  0.823889   0.658908  0.379381   \n",
      "1  Neural Networks Tuned : UnderSampled  0.768667   0.471325  0.601546   \n",
      "2   Neural Networks Tuned : OverSampled  0.771778   0.476582  0.597938   \n",
      "\n",
      "   F1 Score       ROC  \n",
      "0  0.481518  0.662708  \n",
      "1  0.528533  0.708068  \n",
      "2  0.530407  0.708742  \n"
     ]
    }
   ],
   "source": [
    "#****************************************************************************************************************                                   \n",
    "#                                   NEURAL NETWORKS - GridSearchCV : OverSampled\n",
    "#****************************************************************************************************************\n",
    "\n",
    "\n",
    "clf= MLPClassifier()\n",
    "params= {'hidden_layer_sizes': [(10,1),(10,2),(10,3)],\n",
    "           'alpha': [.0001,.001,.01,.1,1],\n",
    "            }\n",
    "\n",
    "pipe=make_pipeline(RandomOverSampler(random_state=42), MLPClassifier())\n",
    "\n",
    "params2={'mlpclassifier__'+key:params[key] for key in params}\n",
    "grid =GridSearchCV(pipe,param_grid=params2, cv=5, scoring='accuracy', return_train_score=True)\n",
    "grid = grid.fit(X_train,y_train_encoded)\n",
    "\n",
    "best_accuracy_rf = grid.best_score_\n",
    "print('Accuracy on Cross Validation set :',best_accuracy_rf)\n",
    "\n",
    "best_params = grid.best_params_\n",
    "print(best_params)\n",
    "\n",
    "y_pred = grid.predict(X_test)\n",
    "\n",
    "roc=roc_auc_score(y_test, y_pred)\n",
    "acc = accuracy_score(y_test, y_pred)\n",
    "prec = precision_score(y_test, y_pred)\n",
    "rec = recall_score(y_test, y_pred)\n",
    "f1 = f1_score(y_test, y_pred)\n",
    "model=  pd.DataFrame([['Neural Networks Tuned : OverSampled', acc,prec,rec, f1,roc]],\n",
    "               columns = ['Model', 'Accuracy', 'Precision', 'Recall', 'F1 Score','ROC'])\n",
    "gcv_results = gcv_results.append(model, ignore_index = True)\n",
    "print(gcv_results)\n"
   ]
  },
  {
   "cell_type": "code",
   "execution_count": 17,
   "metadata": {},
   "outputs": [
    {
     "name": "stdout",
     "output_type": "stream",
     "text": [
      "Accuracy on Cross Validation set : 0.7619047619047619\n",
      "{'mlpclassifier__alpha': 1, 'mlpclassifier__hidden_layer_sizes': (10, 2)}\n",
      "                           Model  Accuracy  Precision   Recall  F1 Score  \\\n",
      "0  Neural Networks Tuned : SMOTE     0.771   0.475516  0.60567  0.532759   \n",
      "\n",
      "       ROC  \n",
      "0  0.71105  \n"
     ]
    },
    {
     "data": {
      "image/png": "[encoded data removed]",
      "text/plain": [
       "<Figure size 432x288 with 1 Axes>"
      ]
     },
     "metadata": {
      "needs_background": "light"
     },
     "output_type": "display_data"
    }
   ],
   "source": [
    "#****************************************************************************************************************                                   \n",
    "#                                   NEURAL NETWORKS - GridSearchCV : SMOTE\n",
    "#****************************************************************************************************************\n",
    "\n",
    "\n",
    "clf= MLPClassifier()\n",
    "params= {'hidden_layer_sizes': [(10,1),(10,2),(10,3)],\n",
    "           'alpha': [.0001,.001,.01,.1,1],\n",
    "            }\n",
    "\n",
    "pipe=make_pipeline(SMOTE(random_state=42), MLPClassifier())\n",
    "\n",
    "params2={'mlpclassifier__'+key:params[key] for key in params}\n",
    "grid =GridSearchCV(pipe,param_grid=params2, cv=5, scoring='accuracy', return_train_score=True)\n",
    "grid = grid.fit(X_train,y_train_encoded)\n",
    "\n",
    "best_accuracy_rf = grid.best_score_\n",
    "print('Accuracy on Cross Validation set :',best_accuracy_rf)\n",
    "\n",
    "best_params = grid.best_params_\n",
    "print(best_params)\n",
    "\n",
    "y_pred = grid.predict(X_test)\n",
    "\n",
    "roc=roc_auc_score(y_test, y_pred)\n",
    "acc = accuracy_score(y_test, y_pred)\n",
    "prec = precision_score(y_test, y_pred)\n",
    "rec = recall_score(y_test, y_pred)\n",
    "f1 = f1_score(y_test, y_pred)\n",
    "gcv_results=  pd.DataFrame([['Neural Networks Tuned : SMOTE', acc,prec,rec, f1,roc]],\n",
    "               columns = ['Model', 'Accuracy', 'Precision', 'Recall', 'F1 Score','ROC'])\n",
    "print(gcv_results)\n",
    "\n",
    "#ROC CURVE\n",
    "from sklearn.metrics import roc_auc_score\n",
    "from sklearn.metrics import roc_curve\n",
    "#logit_roc_auc = roc_auc_score(y_test, logreg.predict(X_test))\n",
    "fpr, tpr, thresholds = roc_curve(y_test, grid.predict_proba(X_test)[:,1])\n",
    "plt.figure()\n",
    "plt.plot(fpr, tpr, label='Neural Networks (area = %0.2f)' % roc)\n",
    "plt.plot([0, 1], [0, 1],'r--')\n",
    "plt.xlim([0.0, 1.0])\n",
    "plt.ylim([0.0, 1.05])\n",
    "plt.xlabel('False Positive Rate')\n",
    "plt.ylabel('True Positive Rate')\n",
    "plt.title('Receiver operating characteristic')\n",
    "plt.legend(loc=\"lower right\")\n",
    "plt.savefig('Log_ROC')\n",
    "plt.show()\n"
   ]
  },
  {
   "cell_type": "code",
   "execution_count": null,
   "metadata": {},
   "outputs": [],
   "source": []
  },
  {
   "cell_type": "markdown",
   "metadata": {},
   "source": [
    "FEATURE SELECTION - Recursive Feature Elimination\n",
    "-------"
   ]
  },
  {
   "cell_type": "code",
   "execution_count": 34,
   "metadata": {},
   "outputs": [],
   "source": [
    "#X_fs=X_en1.copy()\n",
    "#y_fs=y_en1.copy()"
   ]
  },
  {
   "cell_type": "code",
   "execution_count": 18,
   "metadata": {},
   "outputs": [],
   "source": [
    "from sklearn.model_selection import StratifiedKFold\n",
    "from sklearn.feature_selection import RFECV\n",
    "from sklearn.feature_selection import RFE"
   ]
  },
  {
   "cell_type": "code",
   "execution_count": 39,
   "metadata": {},
   "outputs": [
    {
     "name": "stdout",
     "output_type": "stream",
     "text": [
      "{'estimator__C': 10, 'estimator__class_weight': 'balanced', 'estimator__penalty': 'l1'}\n",
      "0.5300654452955424\n",
      "RFECV(cv=5,\n",
      "      estimator=LogisticRegression(C=10, class_weight='balanced', dual=False,\n",
      "                                   fit_intercept=True, intercept_scaling=1,\n",
      "                                   l1_ratio=None, max_iter=100,\n",
      "                                   multi_class='ovr', n_jobs=None, penalty='l1',\n",
      "                                   random_state=None, solver='liblinear',\n",
      "                                   tol=0.0001, verbose=0, warm_start=False),\n",
      "      min_features_to_select=1, n_jobs=None, scoring='f1', step=1, verbose=0)\n",
      "                           Model  Accuracy  Precision    Recall  F1 Score  \\\n",
      "0  Neural Networks Tuned : SMOTE  0.782111   0.495247  0.563918  0.527356   \n",
      "\n",
      "        ROC  \n",
      "0  0.702993  \n"
     ]
    }
   ],
   "source": [
    "#*********************************************************************************************************************\n",
    "#                       Logistic Regression - RFECV & GridSearchCV\n",
    "#*********************************************************************************************************************\n",
    "\n",
    "clf = LogisticRegression(solver='liblinear',multi_class='ovr')\n",
    "rfecv = RFECV(estimator=clf, step=1, cv=5, scoring='f1')\n",
    "\n",
    "#param_grid = { 'n_estimators': [200, 500], 'max_features': ['auto', 'sqrt', 'log2'], 'max_depth' : [4,5,6,7,8],'criterion' :['gini', 'entropy']}\n",
    "params = {'estimator__C': [10, 20, 30, 40, 50, 60], 'estimator__class_weight': [None, 'balanced'],'estimator__penalty': ['l1', 'l2']}\n",
    "#k_fold = StratifiedKFold(n_splits=10, shuffle=True, random_state=0)\n",
    "\n",
    "X_new = rfecv.fit_transform(X_train, y_train_encoded)\n",
    "\n",
    "grid = GridSearchCV(estimator=rfecv, param_grid=params, cv= 5, scoring = 'f1')\n",
    "grid=grid.fit(X_train, y_train_encoded)\n",
    "print(grid.best_params_)\n",
    "print(grid.best_score_)\n",
    "print(grid.best_estimator_)\n",
    "\n",
    "y_pred = grid.predict(X_test)\n",
    "roc=roc_auc_score(y_test, y_pred)\n",
    "acc = accuracy_score(y_test, y_pred)\n",
    "prec = precision_score(y_test, y_pred)\n",
    "rec = recall_score(y_test, y_pred)\n",
    "f1 = f1_score(y_test, y_pred)\n",
    "rfe_gcv=  pd.DataFrame([['Neural Networks Tuned : SMOTE', acc,prec,rec, f1,roc]],\n",
    "               columns = ['Model', 'Accuracy', 'Precision', 'Recall', 'F1 Score','ROC'])\n",
    "\n",
    "print(rfe_gcv)\n",
    "rf= rfecv.fit(X_train, y_train_encoded)\n",
    "print('Optimal number of features: {}'.format(rf.n_features_))\n",
    "feat_names=np.array(X_en1.columns)\n",
    "print(\"Most important features (RFE) :%s\" %feat_names[rf.support_])"
   ]
  },
  {
   "cell_type": "code",
   "execution_count": 42,
   "metadata": {},
   "outputs": [
    {
     "name": "stdout",
     "output_type": "stream",
     "text": [
      "Optimal number of features: 10\n",
      "Most important features (RFE) :['LIMIT_BAL' 'PAY_1' 'PAY_6' 'BILL_AMT1' 'BILL_AMT3' 'PAY_AMT1' 'PAY_AMT2'\n",
      " 'GRAD_SCHOOL' 'UNIVERSITY' 'HIGH_SCHOOL']\n"
     ]
    }
   ],
   "source": [
    "rf= rfecv.fit(X_train, y_train_encoded)\n",
    "print('Optimal number of features: {}'.format(rf.n_features_))\n",
    "feat_names=np.array(X_en1.columns)\n",
    "print(\"Most important features (RFE) :%s\" %feat_names[rf.support_])"
   ]
  },
  {
   "cell_type": "code",
   "execution_count": 70,
   "metadata": {},
   "outputs": [
    {
     "name": "stdout",
     "output_type": "stream",
     "text": [
      "{'estimator__C': 10, 'estimator__class_weight': 'balanced', 'estimator__penalty': 'l1'}\n",
      "0.5775122923889153\n",
      "RFECV(cv=5,\n",
      "      estimator=LogisticRegression(C=10, class_weight='balanced', dual=False,\n",
      "                                   fit_intercept=True, intercept_scaling=1,\n",
      "                                   l1_ratio=None, max_iter=100,\n",
      "                                   multi_class='ovr', n_jobs=None, penalty='l1',\n",
      "                                   random_state=None, solver='liblinear',\n",
      "                                   tol=0.0001, verbose=0, warm_start=False),\n",
      "      min_features_to_select=1, n_jobs=None, scoring='recall', step=1,\n",
      "      verbose=0)\n",
      "                                    Model  Accuracy  Precision    Recall  \\\n",
      "0  Logistic Regression- RFE - GRIDSEARHCV  0.772778   0.477631  0.577835   \n",
      "\n",
      "   F1 Score      ROC  \n",
      "0  0.522976  0.70209  \n",
      "Optimal number of features: 9\n",
      "Most important features (RFE) :['PAY_1' 'PAY_6' 'BILL_AMT1' 'BILL_AMT3' 'PAY_AMT1' 'PAY_AMT2'\n",
      " 'GRAD_SCHOOL' 'UNIVERSITY' 'HIGH_SCHOOL']\n"
     ]
    }
   ],
   "source": [
    "#*********************************************************************************************************************\n",
    "#                       Logistic Regression -Imabalanced, RFECV & GridSearchCV\n",
    "#*********************************************************************************************************************\n",
    "\n",
    "clf = LogisticRegression(solver='liblinear',multi_class='ovr')\n",
    "rfecv = RFECV(estimator=clf, step=1, cv=5, scoring='recall')\n",
    "\n",
    "#param_grid = { 'n_estimators': [200, 500], 'max_features': ['auto', 'sqrt', 'log2'], 'max_depth' : [4,5,6,7,8],'criterion' :['gini', 'entropy']}\n",
    "params = {'estimator__C': [10, 20, 30, 40, 50, 60], 'estimator__class_weight': [None, 'balanced'],'estimator__penalty': ['l1', 'l2']}\n",
    "#k_fold = StratifiedKFold(n_splits=10, shuffle=True, random_state=0)\n",
    "\n",
    "X_new = rfecv.fit_transform(X_train, y_train_encoded)\n",
    "\n",
    "grid = GridSearchCV(estimator=rfecv, param_grid=params, cv= 5, scoring = 'recall')\n",
    "grid=grid.fit(X_train, y_train_encoded)\n",
    "print(grid.best_params_)\n",
    "print(grid.best_score_)\n",
    "print(grid.best_estimator_)\n",
    "\n",
    "y_pred = grid.predict(X_test)\n",
    "roc=roc_auc_score(y_test, y_pred)\n",
    "acc = accuracy_score(y_test, y_pred)\n",
    "prec = precision_score(y_test, y_pred)\n",
    "rec = recall_score(y_test, y_pred)\n",
    "f1 = f1_score(y_test, y_pred)\n",
    "rfe_gcv=  pd.DataFrame([['Logistic Regression- RFE - GRIDSEARHCV', acc,prec,rec, f1,roc]],\n",
    "               columns = ['Model', 'Accuracy', 'Precision', 'Recall', 'F1 Score','ROC'])\n",
    "\n",
    "print(rfe_gcv)\n",
    "rf= rfecv.fit(X_train, y_train_encoded)\n",
    "print('Optimal number of features: {}'.format(rf.n_features_))\n",
    "feat_names=np.array(X_en1.columns)\n",
    "print(\"Most important features (RFE) :%s\" %feat_names[rf.support_])"
   ]
  },
  {
   "cell_type": "code",
   "execution_count": 81,
   "metadata": {},
   "outputs": [
    {
     "name": "stdout",
     "output_type": "stream",
     "text": [
      "{'estimator__C': 10, 'estimator__class_weight': None, 'estimator__penalty': 'l2'}\n",
      "0.6516756750121457\n",
      "RFECV(cv=5,\n",
      "      estimator=LogisticRegression(C=10, class_weight=None, dual=False,\n",
      "                                   fit_intercept=True, intercept_scaling=1,\n",
      "                                   l1_ratio=None, max_iter=100,\n",
      "                                   multi_class='ovr', n_jobs=None, penalty='l2',\n",
      "                                   random_state=None, solver='liblinear',\n",
      "                                   tol=0.0001, verbose=0, warm_start=False),\n",
      "      min_features_to_select=1, n_jobs=None, scoring='f1', step=1, verbose=0)\n",
      "                                    Model  Accuracy  Precision    Recall  \\\n",
      "0  Logistic Regression- RFE - GRIDSEARHCV  0.785889   0.503016  0.558763   \n",
      "\n",
      "   F1 Score       ROC  \n",
      "0  0.529426  0.703532  \n",
      "Optimal number of features: 24\n",
      "Most important features (RFE) :['LIMIT_BAL' 'AGE' 'PAY_1' 'PAY_2' 'PAY_3' 'PAY_4' 'PAY_5' 'PAY_6'\n",
      " 'BILL_AMT1' 'BILL_AMT2' 'BILL_AMT3' 'BILL_AMT4' 'BILL_AMT5' 'BILL_AMT6'\n",
      " 'PAY_AMT1' 'PAY_AMT2' 'PAY_AMT3' 'PAY_AMT5' 'PAY_AMT6' 'GRAD_SCHOOL'\n",
      " 'UNIVERSITY' 'HIGH_SCHOOL' 'MALE' 'SINGLE']\n"
     ]
    }
   ],
   "source": [
    "#*********************************************************************************************************************\n",
    "#                       Logistic Regression - UnderSampled, RFECV & GridSearchCV\n",
    "#*********************************************************************************************************************\n",
    "\n",
    "clf = LogisticRegression(solver='liblinear',multi_class='ovr')\n",
    "rfecv = RFECV(estimator=clf, step=1, cv=5, scoring='f1')\n",
    "\n",
    "#param_grid = { 'n_estimators': [200, 500], 'max_features': ['auto', 'sqrt', 'log2'], 'max_depth' : [4,5,6,7,8],'criterion' :['gini', 'entropy']}\n",
    "params = {'estimator__C': [10, 20, 30, 40, 50, 60], 'estimator__class_weight': [None, 'balanced'],'estimator__penalty': ['l1', 'l2']}\n",
    "#k_fold = StratifiedKFold(n_splits=10, shuffle=True, random_state=0)\n",
    "\n",
    "X_new = rfecv.fit_transform(X_train_rus, y_train_rus)\n",
    "\n",
    "grid = GridSearchCV(estimator=rfecv, param_grid=params, cv= 5, scoring = 'f1')\n",
    "grid=grid.fit(X_train_rus, y_train_rus)\n",
    "print(grid.best_params_)\n",
    "print(grid.best_score_)\n",
    "print(grid.best_estimator_)\n",
    "\n",
    "y_pred = grid.predict(X_test)\n",
    "roc=roc_auc_score(y_test, y_pred)\n",
    "acc = accuracy_score(y_test, y_pred)\n",
    "prec = precision_score(y_test, y_pred)\n",
    "rec = recall_score(y_test, y_pred)\n",
    "f1 = f1_score(y_test, y_pred)\n",
    "rfe_gcv=  pd.DataFrame([['Logistic Regression- RFE - GRIDSEARHCV', acc,prec,rec, f1,roc]],\n",
    "               columns = ['Model', 'Accuracy', 'Precision', 'Recall', 'F1 Score','ROC'])\n",
    "\n",
    "print(rfe_gcv)\n",
    "rf= rfecv.fit(X_train_rus, y_train_rus)\n",
    "print('Optimal number of features: {}'.format(rf.n_features_))\n",
    "feat_names=np.array(X_en1.columns)\n",
    "print(\"Most important features (RFE) :%s\" %feat_names[rf.support_])"
   ]
  },
  {
   "cell_type": "code",
   "execution_count": 82,
   "metadata": {},
   "outputs": [
    {
     "name": "stdout",
     "output_type": "stream",
     "text": [
      "{'estimator__C': 10, 'estimator__class_weight': 'balanced', 'estimator__penalty': 'l1'}\n",
      "0.6549952835067523\n",
      "RFECV(cv=5,\n",
      "      estimator=LogisticRegression(C=10, class_weight='balanced', dual=False,\n",
      "                                   fit_intercept=True, intercept_scaling=1,\n",
      "                                   l1_ratio=None, max_iter=100,\n",
      "                                   multi_class='ovr', n_jobs=None, penalty='l1',\n",
      "                                   random_state=None, solver='liblinear',\n",
      "                                   tol=0.0001, verbose=0, warm_start=False),\n",
      "      min_features_to_select=1, n_jobs=None, scoring='f1', step=1, verbose=0)\n",
      "                                    Model  Accuracy  Precision    Recall  \\\n",
      "0  Logistic Regression- RFE - GRIDSEARHCV  0.773889    0.47964  0.576804   \n",
      "\n",
      "   F1 Score       ROC  \n",
      "0  0.523754  0.702425  \n",
      "Optimal number of features: 12\n",
      "Most important features (RFE) :['LIMIT_BAL' 'PAY_1' 'PAY_3' 'PAY_6' 'BILL_AMT1' 'BILL_AMT2' 'BILL_AMT3'\n",
      " 'PAY_AMT1' 'PAY_AMT2' 'GRAD_SCHOOL' 'UNIVERSITY' 'HIGH_SCHOOL']\n"
     ]
    }
   ],
   "source": [
    "#*********************************************************************************************************************\n",
    "#                       Logistic Regression -OversSampled RFECV & GridSearchCV\n",
    "#*********************************************************************************************************************\n",
    "\n",
    "clf = LogisticRegression(solver='liblinear',multi_class='ovr')\n",
    "rfecv = RFECV(estimator=clf, step=1, cv=5, scoring='f1')\n",
    "\n",
    "#param_grid = { 'n_estimators': [200, 500], 'max_features': ['auto', 'sqrt', 'log2'], 'max_depth' : [4,5,6,7,8],'criterion' :['gini', 'entropy']}\n",
    "params = {'estimator__C': [10, 20, 30, 40, 50, 60], 'estimator__class_weight': [None, 'balanced'],'estimator__penalty': ['l1', 'l2']}\n",
    "#k_fold = StratifiedKFold(n_splits=10, shuffle=True, random_state=0)\n",
    "\n",
    "X_new = rfecv.fit_transform(X_train_ros, y_train_ros)\n",
    "\n",
    "grid = GridSearchCV(estimator=rfecv, param_grid=params, cv= 5, scoring = 'f1')\n",
    "grid=grid.fit(X_train_ros, y_train_ros)\n",
    "print(grid.best_params_)\n",
    "print(grid.best_score_)\n",
    "print(grid.best_estimator_)\n",
    "\n",
    "y_pred = grid.predict(X_test)\n",
    "roc=roc_auc_score(y_test, y_pred)\n",
    "acc = accuracy_score(y_test, y_pred)\n",
    "prec = precision_score(y_test, y_pred)\n",
    "rec = recall_score(y_test, y_pred)\n",
    "f1 = f1_score(y_test, y_pred)\n",
    "rfe_gcv=  pd.DataFrame([['Logistic Regression- RFE - GRIDSEARHCV', acc,prec,rec, f1,roc]],\n",
    "               columns = ['Model', 'Accuracy', 'Precision', 'Recall', 'F1 Score','ROC'])\n",
    "\n",
    "print(rfe_gcv)\n",
    "rf= rfecv.fit(X_train_ros, y_train_ros)\n",
    "print('Optimal number of features: {}'.format(rf.n_features_))\n",
    "feat_names=np.array(X_en1.columns)\n",
    "print(\"Most important features (RFE) :%s\" %feat_names[rf.support_])"
   ]
  },
  {
   "cell_type": "code",
   "execution_count": 23,
   "metadata": {},
   "outputs": [
    {
     "name": "stdout",
     "output_type": "stream",
     "text": [
      "{'estimator__class_weight': None, 'estimator__criterion': 'entropy', 'estimator__n_estimators': 80}\n",
      "0.4707824355184245\n",
      "RFECV(cv=3,\n",
      "      estimator=RandomForestClassifier(bootstrap=True, ccp_alpha=0.0,\n",
      "                                       class_weight=None, criterion='entropy',\n",
      "                                       max_depth=None, max_features='auto',\n",
      "                                       max_leaf_nodes=None, max_samples=None,\n",
      "                                       min_impurity_decrease=0.0,\n",
      "                                       min_impurity_split=None,\n",
      "                                       min_samples_leaf=1, min_samples_split=2,\n",
      "                                       min_weight_fraction_leaf=0.0,\n",
      "                                       n_estimators=80, n_jobs=None,\n",
      "                                       oob_score=False, random_state=None,\n",
      "                                       verbose=0, warm_start=False),\n",
      "      min_features_to_select=1, n_jobs=None, scoring='f1', step=1, verbose=0)\n",
      "                                Model  Accuracy  Precision    Recall  \\\n",
      "0  Random FOrest - RFE - GridSearchCV  0.818778   0.639064  0.365979   \n",
      "\n",
      "   F1 Score      ROC  \n",
      "0  0.465421  0.65459  \n",
      "Optimal number of features: 25\n",
      "Most important features (RFE) :['LIMIT_BAL' 'AGE' 'PAY_1' 'PAY_2' 'PAY_3' 'PAY_4' 'PAY_5' 'PAY_6'\n",
      " 'BILL_AMT1' 'BILL_AMT2' 'BILL_AMT3' 'BILL_AMT4' 'BILL_AMT5' 'BILL_AMT6'\n",
      " 'PAY_AMT1' 'PAY_AMT2' 'PAY_AMT3' 'PAY_AMT4' 'PAY_AMT5' 'PAY_AMT6'\n",
      " 'GRAD_SCHOOL' 'UNIVERSITY' 'MALE' 'MARRIED' 'SINGLE']\n"
     ]
    }
   ],
   "source": [
    "#*********************************************************************************************************************\n",
    "#                       Random Forest - RFECV & GridSearchCV\n",
    "#*********************************************************************************************************************\n",
    "clf = RandomForestClassifier()\n",
    "params = {'estimator__n_estimators': [70,80], \n",
    "              'estimator__criterion': ['entropy', 'gini'],\n",
    "              'estimator__class_weight' : ['balanced',None]}\n",
    "\n",
    "\n",
    "rfecv = RFECV(estimator=clf, step=1, cv=3, scoring='f1')\n",
    "\n",
    "#param_grid = { 'n_estimators': [200, 500], 'max_features': ['auto', 'sqrt', 'log2'], 'max_depth' : [4,5,6,7,8],'criterion' :['gini', 'entropy']}\n",
    "\n",
    "#k_fold = StratifiedKFold(n_splits=10, shuffle=True, random_state=0)\n",
    "\n",
    "X_new = rfecv.fit_transform(X_train, y_train_encoded)\n",
    "\n",
    "grid = GridSearchCV(estimator=rfecv, param_grid=params, cv= 3, scoring = 'f1')\n",
    "grid=grid.fit(X_train, y_train_encoded)\n",
    "print(grid.best_params_)\n",
    "print(grid.best_score_)\n",
    "print(grid.best_estimator_)\n",
    "\n",
    "y_pred = grid.predict(X_test)\n",
    "roc=roc_auc_score(y_test, y_pred)\n",
    "acc = accuracy_score(y_test, y_pred)\n",
    "prec = precision_score(y_test, y_pred)\n",
    "rec = recall_score(y_test, y_pred)\n",
    "f1 = f1_score(y_test, y_pred)\n",
    "rfe_gcv=  pd.DataFrame([['Random FOrest - RFE - GridSearchCV', acc,prec,rec, f1,roc]],\n",
    "               columns = ['Model', 'Accuracy', 'Precision', 'Recall', 'F1 Score','ROC'])\n",
    "\n",
    "print(rfe_gcv)\n",
    "rf= rfecv.fit(X_train, y_train_encoded)\n",
    "print('Optimal number of features: {}'.format(rf.n_features_))\n",
    "feat_names=np.array(X_en1.columns)\n",
    "print(\"Most important features (RFE) :%s\" %feat_names[rf.support_])"
   ]
  },
  {
   "cell_type": "code",
   "execution_count": null,
   "metadata": {},
   "outputs": [],
   "source": []
  },
  {
   "cell_type": "code",
   "execution_count": 57,
   "metadata": {},
   "outputs": [
    {
     "name": "stdout",
     "output_type": "stream",
     "text": [
      "Optimization terminated successfully.\n",
      "         Current function value: 0.581085\n",
      "         Iterations 7\n",
      "                         Results: Logit\n",
      "=================================================================\n",
      "Model:              Logit            Pseudo R-squared: 0.162     \n",
      "Dependent Variable: Default          AIC:              37936.0659\n",
      "Date:               2020-04-06 04:47 BIC:              38103.9121\n",
      "No. Observations:   32608            Log-Likelihood:   -18948.   \n",
      "Df Model:           19               LL-Null:          -22602.   \n",
      "Df Residuals:       32588            LLR p-value:      0.0000    \n",
      "Converged:          1.0000           Scale:            1.0000    \n",
      "No. Iterations:     7.0000                                       \n",
      "------------------------------------------------------------------\n",
      "              Coef.   Std.Err.     z      P>|z|    [0.025   0.975]\n",
      "------------------------------------------------------------------\n",
      "LIMIT_BAL    -0.1766    0.0153  -11.5364  0.0000  -0.2066  -0.1466\n",
      "PAY_1         0.6972    0.0162   43.0776  0.0000   0.6655   0.7290\n",
      "PAY_3         0.1613    0.0162    9.9352  0.0000   0.1295   0.1931\n",
      "PAY_5         0.1061    0.0200    5.2988  0.0000   0.0669   0.1454\n",
      "PAY_6         0.1395    0.0189    7.3951  0.0000   0.1025   0.1765\n",
      "BILL_AMT1    -0.3272    0.0624   -5.2419  0.0000  -0.4495  -0.2048\n",
      "BILL_AMT2     0.1867    0.0825    2.2620  0.0237   0.0249   0.3484\n",
      "BILL_AMT3     0.1672    0.0661    2.5284  0.0115   0.0376   0.2968\n",
      "BILL_AMT5     0.0180    0.0566    0.3175  0.7508  -0.0930   0.1289\n",
      "BILL_AMT6     0.0161    0.0461    0.3489  0.7271  -0.0743   0.1065\n",
      "PAY_AMT1     -0.2525    0.0276   -9.1342  0.0000  -0.3066  -0.1983\n",
      "PAY_AMT2     -0.2531    0.0369   -6.8612  0.0000  -0.3254  -0.1808\n",
      "PAY_AMT3     -0.0639    0.0194   -3.3017  0.0010  -0.1019  -0.0260\n",
      "PAY_AMT4     -0.0735    0.0194   -3.7906  0.0002  -0.1115  -0.0355\n",
      "PAY_AMT6     -0.0495    0.0173   -2.8543  0.0043  -0.0835  -0.0155\n",
      "GRAD_SCHOOL   0.5801    0.0680    8.5359  0.0000   0.4469   0.7132\n",
      "UNIVERSITY    0.6032    0.0707    8.5357  0.0000   0.4647   0.7416\n",
      "HIGH_SCHOOL   0.4167    0.0532    7.8377  0.0000   0.3125   0.5210\n",
      "MALE          0.0844    0.0125    6.7778  0.0000   0.0600   0.1088\n",
      "MARRIED       0.1072    0.0128    8.3961  0.0000   0.0822   0.1322\n",
      "=================================================================\n",
      "\n"
     ]
    }
   ],
   "source": [
    "#Feature Selection for Logistic Regression\n",
    "import statsmodels.api as sm\n",
    "logit_model=sm.Logit(y,X)\n",
    "result=logit_model.fit()\n",
    "print(result.summary2())"
   ]
  },
  {
   "cell_type": "code",
   "execution_count": 59,
   "metadata": {},
   "outputs": [
    {
     "name": "stdout",
     "output_type": "stream",
     "text": [
      "Optimization terminated successfully.\n",
      "         Current function value: 0.581099\n",
      "         Iterations 7\n",
      "                         Results: Logit\n",
      "=================================================================\n",
      "Model:              Logit            Pseudo R-squared: 0.162     \n",
      "Dependent Variable: Default          AIC:              37932.9514\n",
      "Date:               2020-04-06 04:51 BIC:              38084.0130\n",
      "No. Observations:   32608            Log-Likelihood:   -18948.   \n",
      "Df Model:           17               LL-Null:          -22602.   \n",
      "Df Residuals:       32590            LLR p-value:      0.0000    \n",
      "Converged:          1.0000           Scale:            1.0000    \n",
      "No. Iterations:     7.0000                                       \n",
      "------------------------------------------------------------------\n",
      "              Coef.   Std.Err.     z      P>|z|    [0.025   0.975]\n",
      "------------------------------------------------------------------\n",
      "LIMIT_BAL    -0.1756    0.0153  -11.5105  0.0000  -0.2055  -0.1457\n",
      "PAY_1         0.6976    0.0162   43.1182  0.0000   0.6659   0.7293\n",
      "PAY_3         0.1616    0.0162    9.9570  0.0000   0.1298   0.1934\n",
      "PAY_5         0.1072    0.0200    5.3568  0.0000   0.0679   0.1464\n",
      "PAY_6         0.1405    0.0188    7.4641  0.0000   0.1036   0.1774\n",
      "BILL_AMT1    -0.3297    0.0624   -5.2863  0.0000  -0.4519  -0.2074\n",
      "BILL_AMT2     0.1899    0.0825    2.3020  0.0213   0.0282   0.3515\n",
      "BILL_AMT3     0.1972    0.0567    3.4772  0.0005   0.0860   0.3083\n",
      "PAY_AMT1     -0.2545    0.0276   -9.2316  0.0000  -0.3086  -0.2005\n",
      "PAY_AMT2     -0.2577    0.0365   -7.0514  0.0000  -0.3294  -0.1861\n",
      "PAY_AMT3     -0.0584    0.0183   -3.1909  0.0014  -0.0943  -0.0225\n",
      "PAY_AMT4     -0.0675    0.0179   -3.7792  0.0002  -0.1025  -0.0325\n",
      "PAY_AMT6     -0.0509    0.0172   -2.9584  0.0031  -0.0845  -0.0172\n",
      "GRAD_SCHOOL   0.5830    0.0679    8.5871  0.0000   0.4499   0.7160\n",
      "UNIVERSITY    0.6062    0.0706    8.5876  0.0000   0.4678   0.7446\n",
      "HIGH_SCHOOL   0.4188    0.0531    7.8822  0.0000   0.3147   0.5229\n",
      "MALE          0.0842    0.0125    6.7618  0.0000   0.0598   0.1086\n",
      "MARRIED       0.1071    0.0128    8.3898  0.0000   0.0821   0.1321\n",
      "=================================================================\n",
      "\n"
     ]
    }
   ],
   "source": [
    "\n",
    "Ximp=['LIMIT_BAL', 'PAY_1', 'PAY_3', 'PAY_5', 'PAY_6', 'BILL_AMT1',\n",
    "       'BILL_AMT2', 'BILL_AMT3', 'PAY_AMT1',\n",
    "       'PAY_AMT2', 'PAY_AMT3', 'PAY_AMT4', 'PAY_AMT6', 'GRAD_SCHOOL',\n",
    "       'UNIVERSITY', 'HIGH_SCHOOL', 'MALE', 'MARRIED']\n",
    "X=X_train_sm_df[Ximp]\n",
    "y=y_train_sm_df['Default']\n",
    "\n",
    "logit_model=sm.Logit(y,X)\n",
    "result=logit_model.fit()\n",
    "print(result.summary2())"
   ]
  },
  {
   "cell_type": "code",
   "execution_count": 60,
   "metadata": {},
   "outputs": [
    {
     "name": "stdout",
     "output_type": "stream",
     "text": [
      "Accuracy of logistic regression classifier on test set: 0.78\n",
      "                                Model  Accuracy  Precision    Recall  \\\n",
      "0  Logistic Regression - IMP Features  0.779889   0.490901  0.570103   \n",
      "\n",
      "   F1 Score       ROC  \n",
      "0  0.527546  0.703819  \n"
     ]
    }
   ],
   "source": [
    "logreg = LogisticRegression()\n",
    "logreg.fit(X, y)\n",
    "\n",
    "X_test3=X_test2[Ximp]\n",
    "\n",
    "y_pred = logreg.predict(X_test3)\n",
    "print('Accuracy of logistic regression classifier on test set: {:.2f}'.format(logreg.score(X_test3, y_test2)))\n",
    "\n",
    "roc=roc_auc_score(y_test2, y_pred)\n",
    "acc = accuracy_score(y_test2, y_pred)\n",
    "prec = precision_score(y_test2, y_pred)\n",
    "rec = recall_score(y_test2, y_pred)\n",
    "f1 = f1_score(y_test2, y_pred)\n",
    "lrscore = pd.DataFrame([['Logistic Regression - IMP Features', acc,prec,rec, f1,roc]],\n",
    "               columns = ['Model', 'Accuracy', 'Precision', 'Recall', 'F1 Score','ROC'])\n",
    "print(lrscore)"
   ]
  },
  {
   "cell_type": "code",
   "execution_count": 61,
   "metadata": {},
   "outputs": [
    {
     "name": "stdout",
     "output_type": "stream",
     "text": [
      "[[5913 1147]\n",
      " [ 834 1106]]\n",
      "              precision    recall  f1-score   support\n",
      "\n",
      "           0       0.88      0.84      0.86      7060\n",
      "           1       0.49      0.57      0.53      1940\n",
      "\n",
      "    accuracy                           0.78      9000\n",
      "   macro avg       0.68      0.70      0.69      9000\n",
      "weighted avg       0.79      0.78      0.79      9000\n",
      "\n"
     ]
    }
   ],
   "source": [
    "#Confusion metrics\n",
    "from sklearn.metrics import confusion_matrix\n",
    "confusion_matrix = confusion_matrix(y_test2, y_pred)\n",
    "print(confusion_matrix)\n",
    "\n",
    "from sklearn.metrics import classification_report\n",
    "print(classification_report(y_test2, y_pred))"
   ]
  },
  {
   "cell_type": "code",
   "execution_count": null,
   "metadata": {},
   "outputs": [],
   "source": []
  },
  {
   "cell_type": "code",
   "execution_count": null,
   "metadata": {},
   "outputs": [],
   "source": []
  }
 ],
 "metadata": {
  "kernelspec": {
   "display_name": "Python 3",
   "language": "python",
   "name": "python3"
  },
  "language_info": {
   "codemirror_mode": {
    "name": "ipython",
    "version": 3
   },
   "file_extension": ".py",
   "mimetype": "text/x-python",
   "name": "python",
   "nbconvert_exporter": "python",
   "pygments_lexer": "ipython3",
   "version": "3.7.4"
  }
 },
 "nbformat": 4,
 "nbformat_minor": 2
}
